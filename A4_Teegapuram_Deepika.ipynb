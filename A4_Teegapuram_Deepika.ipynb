{
  "nbformat": 4,
  "nbformat_minor": 0,
  "metadata": {
    "colab": {
      "name": "A4-Teegapuram-Deepika.ipynb",
      "provenance": [],
      "collapsed_sections": [],
      "include_colab_link": true
    },
    "kernelspec": {
      "name": "python3",
      "display_name": "Python 3"
    }
  },
  "cells": [
    {
      "cell_type": "markdown",
      "metadata": {
        "id": "view-in-github",
        "colab_type": "text"
      },
      "source": [
        "<a href=\"https://colab.research.google.com/github/Deepte01/HeartDiseasePredictionModel/blob/master/A4_Teegapuram_Deepika.ipynb\" target=\"_parent\"><img src=\"https://colab.research.google.com/assets/colab-badge.svg\" alt=\"Open In Colab\"/></a>"
      ]
    },
    {
      "cell_type": "markdown",
      "metadata": {
        "id": "FC7YlOrmlED0",
        "colab_type": "text"
      },
      "source": [
        "<h1><u><center>Exploratory Data Analysis on Heart Disease</center></u></h2>\n",
        "<i><h5><center>Name: Deepika Teegapuram, Email: dteegapuram@gmail.com</center></h5></i>"
      ]
    },
    {
      "cell_type": "markdown",
      "metadata": {
        "id": "RsV0M7_an9SW",
        "colab_type": "text"
      },
      "source": [
        "<h2>Part-A : Reason for choosing this Dataset</h2>\n",
        "<p> Various underlying factors cause heart disease in humans.  Even today, only some heart diseases have a medical cure. It is interesting to predict a heart disease when the health condition of a person is known. This interest has motivated to select the dataset published by the UCI Machine Learning repository, which depicts an instance of the Clevland Database. <p>"
      ]
    },
    {
      "cell_type": "markdown",
      "metadata": {
        "id": "yutnxI5v0bHX",
        "colab_type": "text"
      },
      "source": [
        "<h2>Part-B : Obtaining the Data</h2>\n",
        "<p>The data downloaded from the UCI repository is in .csv format. It is then imported into google drive manually. The google colab notebook imports this file by connecting to the google drive using the drive.mount() function. This function returns a URL and an input field for accepting an authentication code. Click on the URL and copy the auth code and paste in the input field. Once the connection is successful, the gdrive section of google colab can access all the folders and files of google drive. Navigate to the directory which has the dataset in the gdrive and retrieve the file path and provide it as an input in the read_csv() method.<p>"
      ]
    },
    {
      "cell_type": "code",
      "metadata": {
        "id": "Z756HHIHgWqZ",
        "colab_type": "code",
        "colab": {}
      },
      "source": [
        "import numpy as np\n",
        "import pandas as pd\n",
        "import os\n",
        "import warnings\n",
        "import matplotlib.pyplot as plt\n",
        "%matplotlib inline\n",
        "import seaborn as sns\n",
        "\n",
        "\n",
        "warnings.filterwarnings('ignore')\n",
        "\n",
        "import numpy as np\n",
        "import pandas as pd\n",
        "import os\n",
        "import warnings\n",
        "import matplotlib.pyplot as plt\n",
        "%matplotlib inline\n",
        "import seaborn as sns\n",
        "\n",
        "from sklearn.model_selection import train_test_split\n",
        "from sklearn.linear_model import LogisticRegression\n",
        "from sklearn.naive_bayes import MultinomialNB\n",
        "from sklearn.naive_bayes import GaussianNB\n",
        "from sklearn.neighbors import KNeighborsClassifier\n",
        "from sklearn.model_selection import cross_val_score\n",
        "\n",
        "from sklearn import preprocessing\n",
        "from sklearn.ensemble import RandomForestClassifier\n",
        "from sklearn.tree import DecisionTreeClassifier\n",
        "from sklearn.preprocessing import RobustScaler,StandardScaler\n",
        "\n",
        "\n",
        "from sklearn.metrics import confusion_matrix, f1_score, roc_curve, auc\n",
        "from sklearn.metrics import classification_report \n",
        "\n",
        "from sklearn import metrics\n",
        "\n",
        "from google.colab import drive\n",
        "\n",
        "\n",
        "warnings.filterwarnings('ignore')"
      ],
      "execution_count": null,
      "outputs": []
    },
    {
      "cell_type": "code",
      "metadata": {
        "id": "B69gBBpPiCOk",
        "colab_type": "code",
        "colab": {
          "base_uri": "https://localhost:8080/",
          "height": 121
        },
        "outputId": "3071ad92-3247-4e57-ade8-f45906e174d2"
      },
      "source": [
        "drive.mount('/content/gdrive')"
      ],
      "execution_count": null,
      "outputs": [
        {
          "output_type": "stream",
          "text": [
            "Go to this URL in a browser: https://accounts.google.com/o/oauth2/auth?client_id=947318989803-6bn6qk8qdgf4n4g3pfee6491hc0brc4i.apps.googleusercontent.com&redirect_uri=urn%3Aietf%3Awg%3Aoauth%3A2.0%3Aoob&scope=email%20https%3A%2F%2Fwww.googleapis.com%2Fauth%2Fdocs.test%20https%3A%2F%2Fwww.googleapis.com%2Fauth%2Fdrive%20https%3A%2F%2Fwww.googleapis.com%2Fauth%2Fdrive.photos.readonly%20https%3A%2F%2Fwww.googleapis.com%2Fauth%2Fpeopleapi.readonly&response_type=code\n",
            "\n",
            "Enter your authorization code:\n",
            "··········\n",
            "Mounted at /content/gdrive\n"
          ],
          "name": "stdout"
        }
      ]
    },
    {
      "cell_type": "code",
      "metadata": {
        "id": "nRo8Anj9iEpk",
        "colab_type": "code",
        "colab": {
          "base_uri": "https://localhost:8080/",
          "height": 34
        },
        "outputId": "e8d5437d-2e4a-4346-e262-6d275f2eaf34"
      },
      "source": [
        "cd gdrive"
      ],
      "execution_count": null,
      "outputs": [
        {
          "output_type": "stream",
          "text": [
            "/content/gdrive\n"
          ],
          "name": "stdout"
        }
      ]
    },
    {
      "cell_type": "code",
      "metadata": {
        "id": "nkQgKg3IjEGO",
        "colab_type": "code",
        "colab": {
          "base_uri": "https://localhost:8080/",
          "height": 34
        },
        "outputId": "2e9a3fab-19ae-4ce3-f7b4-40498e5bae55"
      },
      "source": [
        "cd My\\ Drive"
      ],
      "execution_count": null,
      "outputs": [
        {
          "output_type": "stream",
          "text": [
            "/content/gdrive/My Drive\n"
          ],
          "name": "stdout"
        }
      ]
    },
    {
      "cell_type": "markdown",
      "metadata": {
        "id": "_49aoyVlj8Hk",
        "colab_type": "text"
      },
      "source": [
        "The data is loaded into the pandas dataframe for further analysis."
      ]
    },
    {
      "cell_type": "code",
      "metadata": {
        "id": "aHH3FIdfjXfF",
        "colab_type": "code",
        "colab": {}
      },
      "source": [
        "df = pd.read_csv('HeartDataSet/Cleveland_Data.csv') "
      ],
      "execution_count": null,
      "outputs": []
    },
    {
      "cell_type": "markdown",
      "metadata": {
        "id": "5r62xrf73Y5E",
        "colab_type": "text"
      },
      "source": [
        "<h2>Part-C : Scrubbing and Fomatting the Data</h2>\n"
      ]
    },
    {
      "cell_type": "markdown",
      "metadata": {
        "id": "PwCpZQnQx3uU",
        "colab_type": "text"
      },
      "source": [
        "Before we start with scrubbing and formatting the data, we need to have an overview of the number of instances in the data and the total number of features it has. With the help of the shape attribute of numpy, we can have an overview."
      ]
    },
    {
      "cell_type": "code",
      "metadata": {
        "id": "qlN88l8NjkI4",
        "colab_type": "code",
        "colab": {
          "base_uri": "https://localhost:8080/",
          "height": 34
        },
        "outputId": "451c6866-042f-4c30-c70f-98b4871b1b52"
      },
      "source": [
        "df.shape\n"
      ],
      "execution_count": null,
      "outputs": [
        {
          "output_type": "execute_result",
          "data": {
            "text/plain": [
              "(303, 14)"
            ]
          },
          "metadata": {
            "tags": []
          },
          "execution_count": 103
        }
      ]
    },
    {
      "cell_type": "markdown",
      "metadata": {
        "id": "5UEr-ZiZzIiw",
        "colab_type": "text"
      },
      "source": [
        "Let's print the names of features which the data have using columns attribute of numpy"
      ]
    },
    {
      "cell_type": "code",
      "metadata": {
        "id": "cAE8SerKDSsM",
        "colab_type": "code",
        "colab": {
          "base_uri": "https://localhost:8080/",
          "height": 67
        },
        "outputId": "2af92011-59e1-481b-866d-b2ab501fec22"
      },
      "source": [
        "df.columns"
      ],
      "execution_count": null,
      "outputs": [
        {
          "output_type": "execute_result",
          "data": {
            "text/plain": [
              "Index(['age', 'sex', 'cp', 'trestbps', 'chol', 'fbs', 'restecg', 'thalach',\n",
              "       'exang', 'oldpeak', 'slope', 'ca', 'thal', 'num'],\n",
              "      dtype='object')"
            ]
          },
          "metadata": {
            "tags": []
          },
          "execution_count": 104
        }
      ]
    },
    {
      "cell_type": "markdown",
      "metadata": {
        "id": "Ia024PitzWNJ",
        "colab_type": "text"
      },
      "source": [
        "Lets check if there are any null values in the instances."
      ]
    },
    {
      "cell_type": "code",
      "metadata": {
        "id": "b8DtNPfGDYFB",
        "colab_type": "code",
        "colab": {
          "base_uri": "https://localhost:8080/",
          "height": 34
        },
        "outputId": "c25ab209-f083-4dff-fb45-ff22b40f57a8"
      },
      "source": [
        "df.isnull().values.any()\n",
        "# There are no null values in the data."
      ],
      "execution_count": null,
      "outputs": [
        {
          "output_type": "execute_result",
          "data": {
            "text/plain": [
              "False"
            ]
          },
          "metadata": {
            "tags": []
          },
          "execution_count": 105
        }
      ]
    },
    {
      "cell_type": "markdown",
      "metadata": {
        "id": "8O8QQWJWEqs5",
        "colab_type": "text"
      },
      "source": [
        "From the thorough observation of data, we can observe there are \"?\" symbols in some features. We need to find such instances and delete them using the following code."
      ]
    },
    {
      "cell_type": "code",
      "metadata": {
        "id": "5wMhK3m_Egw6",
        "colab_type": "code",
        "colab": {
          "base_uri": "https://localhost:8080/",
          "height": 118
        },
        "outputId": "8e4d1947-bb68-46a8-8c7a-ff5b66e7d2d0"
      },
      "source": [
        "indexNumbers = list()\n",
        "#df.iloc[:,:]\n",
        "for i in df.columns:\n",
        "  index_list=df.index[df[i]=='?']\n",
        "  if(len(index_list)>0):\n",
        "    #indexNumbers.append(index_list.values.tolist())\n",
        "    for el in index_list.values.tolist():\n",
        "      df.drop(el,inplace=True)\n",
        "      print(el)\n",
        "# the below printed rows are deleted from the data frame."
      ],
      "execution_count": null,
      "outputs": [
        {
          "output_type": "stream",
          "text": [
            "166\n",
            "192\n",
            "287\n",
            "302\n",
            "87\n",
            "266\n"
          ],
          "name": "stdout"
        }
      ]
    },
    {
      "cell_type": "code",
      "metadata": {
        "id": "O-BWCH1_HI0X",
        "colab_type": "code",
        "colab": {
          "base_uri": "https://localhost:8080/",
          "height": 34
        },
        "outputId": "645e4964-5ea0-434f-f4f3-b43e2178992e"
      },
      "source": [
        "# After deleting rows which has ? symbol, the shape is decreased from 303 to 297\n",
        "df.shape"
      ],
      "execution_count": null,
      "outputs": [
        {
          "output_type": "execute_result",
          "data": {
            "text/plain": [
              "(297, 14)"
            ]
          },
          "metadata": {
            "tags": []
          },
          "execution_count": 107
        }
      ]
    },
    {
      "cell_type": "markdown",
      "metadata": {
        "id": "Mb0VRrFzDc9r",
        "colab_type": "text"
      },
      "source": [
        "Now that the data is filtered, it is time to explore the features in the dataset. There are 14 features, but their name is not self-explanatory. We need to rename the fields based on the documentation provided by the UCI repository."
      ]
    },
    {
      "cell_type": "code",
      "metadata": {
        "id": "VhvJ-M_vC4s6",
        "colab_type": "code",
        "colab": {
          "base_uri": "https://localhost:8080/",
          "height": 101
        },
        "outputId": "cd655b26-bec8-4bb0-8a3d-023e03b1a87c"
      },
      "source": [
        "df.columns = ['age', 'sex', 'chest_pain_type', 'resting_blood_pressure', 'cholesterol', 'fasting_blood_sugar', 'rest_ecg', 'max_heart_rate_achieved',\n",
        "       'exercise_induced_angina', 'st_depression', 'st_slope', 'num_major_vessels', 'thalassemia', 'target']\n",
        "df.columns"
      ],
      "execution_count": null,
      "outputs": [
        {
          "output_type": "execute_result",
          "data": {
            "text/plain": [
              "Index(['age', 'sex', 'chest_pain_type', 'resting_blood_pressure',\n",
              "       'cholesterol', 'fasting_blood_sugar', 'rest_ecg',\n",
              "       'max_heart_rate_achieved', 'exercise_induced_angina', 'st_depression',\n",
              "       'st_slope', 'num_major_vessels', 'thalassemia', 'target'],\n",
              "      dtype='object')"
            ]
          },
          "metadata": {
            "tags": []
          },
          "execution_count": 108
        }
      ]
    },
    {
      "cell_type": "code",
      "metadata": {
        "id": "C1FMfyoWrXbe",
        "colab_type": "code",
        "colab": {
          "base_uri": "https://localhost:8080/",
          "height": 215
        },
        "outputId": "348c5106-c529-4e61-936a-b1765d22b077"
      },
      "source": [
        "df.head()"
      ],
      "execution_count": null,
      "outputs": [
        {
          "output_type": "execute_result",
          "data": {
            "text/html": [
              "<div>\n",
              "<style scoped>\n",
              "    .dataframe tbody tr th:only-of-type {\n",
              "        vertical-align: middle;\n",
              "    }\n",
              "\n",
              "    .dataframe tbody tr th {\n",
              "        vertical-align: top;\n",
              "    }\n",
              "\n",
              "    .dataframe thead th {\n",
              "        text-align: right;\n",
              "    }\n",
              "</style>\n",
              "<table border=\"1\" class=\"dataframe\">\n",
              "  <thead>\n",
              "    <tr style=\"text-align: right;\">\n",
              "      <th></th>\n",
              "      <th>age</th>\n",
              "      <th>sex</th>\n",
              "      <th>chest_pain_type</th>\n",
              "      <th>resting_blood_pressure</th>\n",
              "      <th>cholesterol</th>\n",
              "      <th>fasting_blood_sugar</th>\n",
              "      <th>rest_ecg</th>\n",
              "      <th>max_heart_rate_achieved</th>\n",
              "      <th>exercise_induced_angina</th>\n",
              "      <th>st_depression</th>\n",
              "      <th>st_slope</th>\n",
              "      <th>num_major_vessels</th>\n",
              "      <th>thalassemia</th>\n",
              "      <th>target</th>\n",
              "    </tr>\n",
              "  </thead>\n",
              "  <tbody>\n",
              "    <tr>\n",
              "      <th>0</th>\n",
              "      <td>63</td>\n",
              "      <td>1</td>\n",
              "      <td>1</td>\n",
              "      <td>145</td>\n",
              "      <td>233</td>\n",
              "      <td>1</td>\n",
              "      <td>2</td>\n",
              "      <td>150</td>\n",
              "      <td>0</td>\n",
              "      <td>2.3</td>\n",
              "      <td>3</td>\n",
              "      <td>0</td>\n",
              "      <td>6</td>\n",
              "      <td>0</td>\n",
              "    </tr>\n",
              "    <tr>\n",
              "      <th>1</th>\n",
              "      <td>67</td>\n",
              "      <td>1</td>\n",
              "      <td>4</td>\n",
              "      <td>160</td>\n",
              "      <td>286</td>\n",
              "      <td>0</td>\n",
              "      <td>2</td>\n",
              "      <td>108</td>\n",
              "      <td>1</td>\n",
              "      <td>1.5</td>\n",
              "      <td>2</td>\n",
              "      <td>3</td>\n",
              "      <td>3</td>\n",
              "      <td>2</td>\n",
              "    </tr>\n",
              "    <tr>\n",
              "      <th>2</th>\n",
              "      <td>67</td>\n",
              "      <td>1</td>\n",
              "      <td>4</td>\n",
              "      <td>120</td>\n",
              "      <td>229</td>\n",
              "      <td>0</td>\n",
              "      <td>2</td>\n",
              "      <td>129</td>\n",
              "      <td>1</td>\n",
              "      <td>2.6</td>\n",
              "      <td>2</td>\n",
              "      <td>2</td>\n",
              "      <td>7</td>\n",
              "      <td>1</td>\n",
              "    </tr>\n",
              "    <tr>\n",
              "      <th>3</th>\n",
              "      <td>37</td>\n",
              "      <td>1</td>\n",
              "      <td>3</td>\n",
              "      <td>130</td>\n",
              "      <td>250</td>\n",
              "      <td>0</td>\n",
              "      <td>0</td>\n",
              "      <td>187</td>\n",
              "      <td>0</td>\n",
              "      <td>3.5</td>\n",
              "      <td>3</td>\n",
              "      <td>0</td>\n",
              "      <td>3</td>\n",
              "      <td>0</td>\n",
              "    </tr>\n",
              "    <tr>\n",
              "      <th>4</th>\n",
              "      <td>41</td>\n",
              "      <td>0</td>\n",
              "      <td>2</td>\n",
              "      <td>130</td>\n",
              "      <td>204</td>\n",
              "      <td>0</td>\n",
              "      <td>2</td>\n",
              "      <td>172</td>\n",
              "      <td>0</td>\n",
              "      <td>1.4</td>\n",
              "      <td>1</td>\n",
              "      <td>0</td>\n",
              "      <td>3</td>\n",
              "      <td>0</td>\n",
              "    </tr>\n",
              "  </tbody>\n",
              "</table>\n",
              "</div>"
            ],
            "text/plain": [
              "   age  sex  chest_pain_type  ...  num_major_vessels  thalassemia  target\n",
              "0   63    1                1  ...                  0            6       0\n",
              "1   67    1                4  ...                  3            3       2\n",
              "2   67    1                4  ...                  2            7       1\n",
              "3   37    1                3  ...                  0            3       0\n",
              "4   41    0                2  ...                  0            3       0\n",
              "\n",
              "[5 rows x 14 columns]"
            ]
          },
          "metadata": {
            "tags": []
          },
          "execution_count": 109
        }
      ]
    },
    {
      "cell_type": "markdown",
      "metadata": {
        "id": "3ZIsUsRCEVGt",
        "colab_type": "text"
      },
      "source": [
        "Once we do with the modification of column names into more meaningful names, it is time to explore each feature to identify which are continuous values and which are categorical."
      ]
    },
    {
      "cell_type": "markdown",
      "metadata": {
        "id": "bD9CxxCsrfxb",
        "colab_type": "text"
      },
      "source": [
        "<h2>Part-D : Exploratory Data Analysis</h2>"
      ]
    },
    {
      "cell_type": "markdown",
      "metadata": {
        "id": "bL0UZs1wLeKY",
        "colab_type": "text"
      },
      "source": [
        "<h3>Feature Exploration:</h3>\n",
        "\n",
        "Before we start with determining the relationships between the features, we need to have some domain knowledge about heart disease. The article (Bhf.org.uk, 2019) says that High cholesterol, High Blood pressure, High sugar levels, and family history are the major risk factors for causing heart disease.\n",
        "\n",
        "Note that, **thalassemia** is the only feature in our data set which is **hereditary**.\n",
        "\n",
        "According to an article(www.heart.org, n.d.), Age, Gender, and Hereditary are the significant factors of causing heart disease, and these factors cannot be changed. The secondary factors such as high cholesterol levels, High blood pressure, Physical inactivity, and Diabetes can be changed, treated, and controlled.\n",
        "\n",
        "Apart from these features, the dataset has some features that are related to **Angina.**\n",
        "\n",
        "**What is Angina?**\n",
        "<p>Angina is a pain or discomfort caused in the heart due to a temporary block of oxygen and blood to the heart. </p>\n",
        "\n",
        "In this dataset, the chest pain is of four types.\n",
        "\n",
        "1. Typical Angina: This type of pain arises due to the accumulation of plaque in the arteries.\n",
        "2. Atypical Angina: This type of pain arises from emotional stress.\n",
        "3. Non-Anginal pain: This type of chest pain lasts from 5 to 30  minutes. However, this pain can be relieved immediately by lying down.\n",
        "4. Asymptomatic pain: A patient carrying an Asymptotic pain does not have any symptoms or unrecognized symptoms of heart pain. It is also called a silent heart attack.\n",
        "\n",
        "The following are the tests applied to the patients and a description of what each test does.\n",
        "\n",
        "1.  <B> restecg (resting electrocardiographic test):</B>  This is a test that records the electrical activity of the heart when the body is resting. The following are the results of this test.\n",
        "     \n",
        "\n",
        "        *  Normal: No disturbance in the heart activity\n",
        "        *  ST-T abnormality: It shows the existence of heart disease with a T wave\n",
        "        *  Left ventricular hypertrophy: It means the left ventricle is working hard to \n",
        "       Pump the blood and oxygen. It is common in people who have high blood pressure.\n",
        "\n",
        "\n",
        "2.   <B>slope</B>:This is the slope of the peak in exercise ST-segment after 9 - 12 minutes of exercise. It is also called a Stress Test that is, the activity of the heart during physical activity.\n",
        "\n",
        "3. <b>Excersie Induced Angina</b> : The chest pain caused during physical exercise.\n",
        "\n",
        "4. <b>ca (number of major vessels (0-3) colored by flourosopy):</b> It is an X-ray beam which is passed into the body and transmits the image of the organs in a monitor.\n",
        "\n",
        "Now we have some knowledge of the data, let us know how these features are related to heart disease.\n",
        "\n",
        "\n",
        "\n",
        "\n",
        "\n"
      ]
    },
    {
      "cell_type": "markdown",
      "metadata": {
        "id": "fZpExE5O9C7t",
        "colab_type": "text"
      },
      "source": [
        "Firstly, we need to use the info() method of pandas to find which columns are categorical and which columns are numerical, i.e., the data type of each feature.\n",
        "\n",
        "Usually, the columns with the type object are considered to be categorical. "
      ]
    },
    {
      "cell_type": "code",
      "metadata": {
        "id": "fnvphUMlFds-",
        "colab_type": "code",
        "colab": {
          "base_uri": "https://localhost:8080/",
          "height": 336
        },
        "outputId": "250a2574-e7b7-4c2e-8e21-52685c7d4ba6"
      },
      "source": [
        "df.info()"
      ],
      "execution_count": null,
      "outputs": [
        {
          "output_type": "stream",
          "text": [
            "<class 'pandas.core.frame.DataFrame'>\n",
            "Int64Index: 297 entries, 0 to 301\n",
            "Data columns (total 14 columns):\n",
            "age                        297 non-null int64\n",
            "sex                        297 non-null int64\n",
            "chest_pain_type            297 non-null int64\n",
            "resting_blood_pressure     297 non-null int64\n",
            "cholesterol                297 non-null int64\n",
            "fasting_blood_sugar        297 non-null int64\n",
            "rest_ecg                   297 non-null int64\n",
            "max_heart_rate_achieved    297 non-null int64\n",
            "exercise_induced_angina    297 non-null int64\n",
            "st_depression              297 non-null float64\n",
            "st_slope                   297 non-null int64\n",
            "num_major_vessels          297 non-null object\n",
            "thalassemia                297 non-null object\n",
            "target                     297 non-null int64\n",
            "dtypes: float64(1), int64(11), object(2)\n",
            "memory usage: 34.8+ KB\n"
          ],
          "name": "stdout"
        }
      ]
    },
    {
      "cell_type": "markdown",
      "metadata": {
        "id": "IGheZQfuFB49",
        "colab_type": "text"
      },
      "source": [
        "Although only three features represented as categorical in the info(), the source documentation declares the following columns are categorical as follows:</br>\n",
        "sex:\n",
        "\n",
        "          Value 0 : Female\n",
        "          Value 1: Male\n",
        "\n",
        "chest_pain_type: \n",
        "\n",
        "           Value 1: typical angina\n",
        "           Value 2: atypical angina\n",
        "           Value 3: non-anginal pain\n",
        "           Value 4: asymptomatic\n",
        "\n",
        "rest_ecg: \n",
        "  \n",
        "            Value 0: normal\n",
        "            Value 1: ST-T abnormality\n",
        "            Value 2: probable or definite left ventricular hypertrophy\n",
        "            \n",
        "st_slope:\n",
        "\n",
        "            Value 1: upsloping\n",
        "            Value 2: flat\n",
        "            Value 3: down sloping\n",
        "            \n",
        "exercise_induced_angina:\n",
        "\n",
        "           Value 0: no\n",
        "           Value 1: yes\n",
        "           \n",
        "thalassemia:\n",
        "\n",
        "            Value 3: normal\n",
        "            Value 6: fixed defect\n",
        "            Value 7: Reversible defect\n",
        "          \n",
        "fasting_blood_sugar:\n",
        "    \n",
        "            Value 0: less than  or equal to 120 mg/dl \n",
        "            Value 1: greater than 120 mg/dl \n",
        "           \n",
        "target: \n",
        "  \n",
        "            Value 0: No disease\n",
        "            Values 1,2,3,4: Number of Vessels which caused heart disease\n",
        "            \n",
        "num_major_vessels:  0-3 (vessels coloured by the Flouroscopy)\n",
        "\n",
        "There are eight categorical columns and six continuous (numerical) columns, and we have to find the relationship among them."
      ]
    },
    {
      "cell_type": "markdown",
      "metadata": {
        "id": "Vv3OJP2RnRun",
        "colab_type": "text"
      },
      "source": [
        "Let us look at one categorical feature and see how many unique values it has."
      ]
    },
    {
      "cell_type": "code",
      "metadata": {
        "id": "NQWxYhSXRfhx",
        "colab_type": "code",
        "colab": {
          "base_uri": "https://localhost:8080/",
          "height": 34
        },
        "outputId": "b09f7d09-3a42-4815-8825-9182d3a57d55"
      },
      "source": [
        "print(df['st_slope'].unique().tolist())\n",
        "#st_slope has three categories i.e, 3,2,1"
      ],
      "execution_count": null,
      "outputs": [
        {
          "output_type": "stream",
          "text": [
            "[3, 2, 1]\n"
          ],
          "name": "stdout"
        }
      ]
    },
    {
      "cell_type": "markdown",
      "metadata": {
        "id": "l4l4R9L99-3E",
        "colab_type": "text"
      },
      "source": [
        "By converting the above discussed features to the category type can improve the processing time."
      ]
    },
    {
      "cell_type": "code",
      "metadata": {
        "id": "FfSikmDUwRLY",
        "colab_type": "code",
        "colab": {}
      },
      "source": [
        "for col in ['sex', 'chest_pain_type', 'rest_ecg', 'st_slope','exercise_induced_angina','thalassemia','fasting_blood_sugar','num_major_vessels','target']:\n",
        "    df[col] = df[col].astype('object')\n"
      ],
      "execution_count": null,
      "outputs": []
    },
    {
      "cell_type": "code",
      "metadata": {
        "id": "OkRbDYjr91uh",
        "colab_type": "code",
        "colab": {
          "base_uri": "https://localhost:8080/",
          "height": 336
        },
        "outputId": "b16ba7b6-489a-442d-c67f-19b11c6945a4"
      },
      "source": [
        "df.info()"
      ],
      "execution_count": null,
      "outputs": [
        {
          "output_type": "stream",
          "text": [
            "<class 'pandas.core.frame.DataFrame'>\n",
            "Int64Index: 297 entries, 0 to 301\n",
            "Data columns (total 14 columns):\n",
            "age                        297 non-null int64\n",
            "sex                        297 non-null object\n",
            "chest_pain_type            297 non-null object\n",
            "resting_blood_pressure     297 non-null int64\n",
            "cholesterol                297 non-null int64\n",
            "fasting_blood_sugar        297 non-null object\n",
            "rest_ecg                   297 non-null object\n",
            "max_heart_rate_achieved    297 non-null int64\n",
            "exercise_induced_angina    297 non-null object\n",
            "st_depression              297 non-null float64\n",
            "st_slope                   297 non-null object\n",
            "num_major_vessels          297 non-null object\n",
            "thalassemia                297 non-null object\n",
            "target                     297 non-null object\n",
            "dtypes: float64(1), int64(4), object(9)\n",
            "memory usage: 34.8+ KB\n"
          ],
          "name": "stdout"
        }
      ]
    },
    {
      "cell_type": "markdown",
      "metadata": {
        "id": "DWdOc5wkhpiw",
        "colab_type": "text"
      },
      "source": [
        "Let us concentrate on the target feature. It has five categories. Class 0 for no heart disease and classes 1,2,3,4 are the number of valves responsible for causing heart disease. Therefore, we can merge classes 1,2,3,4 into class 1, which represents a heart disease without considering how many valves are responsible for it.\n",
        "\n",
        "It will be useful for predicting heart disease."
      ]
    },
    {
      "cell_type": "code",
      "metadata": {
        "id": "ZbmALsv3KZ0f",
        "colab_type": "code",
        "colab": {}
      },
      "source": [
        "df['target'].replace([0,1,2,3,4],[0,1,1,1,1],inplace=True)\n"
      ],
      "execution_count": null,
      "outputs": []
    },
    {
      "cell_type": "markdown",
      "metadata": {
        "id": "YWOB-0PBe3Zr",
        "colab_type": "text"
      },
      "source": [
        "Now let us know the summary of the data which gives us the min, max, and other statistical values of the features."
      ]
    },
    {
      "cell_type": "code",
      "metadata": {
        "id": "Dii46AeCfYcu",
        "colab_type": "code",
        "colab": {
          "base_uri": "https://localhost:8080/",
          "height": 284
        },
        "outputId": "41af97c0-9cfd-430e-f31c-a0c43a51cbe3"
      },
      "source": [
        "df.describe()"
      ],
      "execution_count": null,
      "outputs": [
        {
          "output_type": "execute_result",
          "data": {
            "text/html": [
              "<div>\n",
              "<style scoped>\n",
              "    .dataframe tbody tr th:only-of-type {\n",
              "        vertical-align: middle;\n",
              "    }\n",
              "\n",
              "    .dataframe tbody tr th {\n",
              "        vertical-align: top;\n",
              "    }\n",
              "\n",
              "    .dataframe thead th {\n",
              "        text-align: right;\n",
              "    }\n",
              "</style>\n",
              "<table border=\"1\" class=\"dataframe\">\n",
              "  <thead>\n",
              "    <tr style=\"text-align: right;\">\n",
              "      <th></th>\n",
              "      <th>age</th>\n",
              "      <th>resting_blood_pressure</th>\n",
              "      <th>cholesterol</th>\n",
              "      <th>max_heart_rate_achieved</th>\n",
              "      <th>st_depression</th>\n",
              "    </tr>\n",
              "  </thead>\n",
              "  <tbody>\n",
              "    <tr>\n",
              "      <th>count</th>\n",
              "      <td>297.000000</td>\n",
              "      <td>297.000000</td>\n",
              "      <td>297.000000</td>\n",
              "      <td>297.000000</td>\n",
              "      <td>297.000000</td>\n",
              "    </tr>\n",
              "    <tr>\n",
              "      <th>mean</th>\n",
              "      <td>54.542088</td>\n",
              "      <td>131.693603</td>\n",
              "      <td>247.350168</td>\n",
              "      <td>149.599327</td>\n",
              "      <td>1.055556</td>\n",
              "    </tr>\n",
              "    <tr>\n",
              "      <th>std</th>\n",
              "      <td>9.049736</td>\n",
              "      <td>17.762806</td>\n",
              "      <td>51.997583</td>\n",
              "      <td>22.941562</td>\n",
              "      <td>1.166123</td>\n",
              "    </tr>\n",
              "    <tr>\n",
              "      <th>min</th>\n",
              "      <td>29.000000</td>\n",
              "      <td>94.000000</td>\n",
              "      <td>126.000000</td>\n",
              "      <td>71.000000</td>\n",
              "      <td>0.000000</td>\n",
              "    </tr>\n",
              "    <tr>\n",
              "      <th>25%</th>\n",
              "      <td>48.000000</td>\n",
              "      <td>120.000000</td>\n",
              "      <td>211.000000</td>\n",
              "      <td>133.000000</td>\n",
              "      <td>0.000000</td>\n",
              "    </tr>\n",
              "    <tr>\n",
              "      <th>50%</th>\n",
              "      <td>56.000000</td>\n",
              "      <td>130.000000</td>\n",
              "      <td>243.000000</td>\n",
              "      <td>153.000000</td>\n",
              "      <td>0.800000</td>\n",
              "    </tr>\n",
              "    <tr>\n",
              "      <th>75%</th>\n",
              "      <td>61.000000</td>\n",
              "      <td>140.000000</td>\n",
              "      <td>276.000000</td>\n",
              "      <td>166.000000</td>\n",
              "      <td>1.600000</td>\n",
              "    </tr>\n",
              "    <tr>\n",
              "      <th>max</th>\n",
              "      <td>77.000000</td>\n",
              "      <td>200.000000</td>\n",
              "      <td>564.000000</td>\n",
              "      <td>202.000000</td>\n",
              "      <td>6.200000</td>\n",
              "    </tr>\n",
              "  </tbody>\n",
              "</table>\n",
              "</div>"
            ],
            "text/plain": [
              "              age  ...  st_depression\n",
              "count  297.000000  ...     297.000000\n",
              "mean    54.542088  ...       1.055556\n",
              "std      9.049736  ...       1.166123\n",
              "min     29.000000  ...       0.000000\n",
              "25%     48.000000  ...       0.000000\n",
              "50%     56.000000  ...       0.800000\n",
              "75%     61.000000  ...       1.600000\n",
              "max     77.000000  ...       6.200000\n",
              "\n",
              "[8 rows x 5 columns]"
            ]
          },
          "metadata": {
            "tags": []
          },
          "execution_count": 96
        }
      ]
    },
    {
      "cell_type": "markdown",
      "metadata": {
        "id": "B6VbYjZ2Gmvn",
        "colab_type": "text"
      },
      "source": [
        "Let us take a look at the first five rows of the data frame."
      ]
    },
    {
      "cell_type": "code",
      "metadata": {
        "id": "Bu20gsnVKsWC",
        "colab_type": "code",
        "colab": {
          "base_uri": "https://localhost:8080/",
          "height": 215
        },
        "outputId": "8cd8b5e4-50f8-4edd-a7ef-00349f5f1591"
      },
      "source": [
        "df.head()\n",
        "# all the target rows are changed in to 0's and 1's"
      ],
      "execution_count": null,
      "outputs": [
        {
          "output_type": "execute_result",
          "data": {
            "text/html": [
              "<div>\n",
              "<style scoped>\n",
              "    .dataframe tbody tr th:only-of-type {\n",
              "        vertical-align: middle;\n",
              "    }\n",
              "\n",
              "    .dataframe tbody tr th {\n",
              "        vertical-align: top;\n",
              "    }\n",
              "\n",
              "    .dataframe thead th {\n",
              "        text-align: right;\n",
              "    }\n",
              "</style>\n",
              "<table border=\"1\" class=\"dataframe\">\n",
              "  <thead>\n",
              "    <tr style=\"text-align: right;\">\n",
              "      <th></th>\n",
              "      <th>age</th>\n",
              "      <th>sex</th>\n",
              "      <th>chest_pain_type</th>\n",
              "      <th>resting_blood_pressure</th>\n",
              "      <th>cholesterol</th>\n",
              "      <th>fasting_blood_sugar</th>\n",
              "      <th>rest_ecg</th>\n",
              "      <th>max_heart_rate_achieved</th>\n",
              "      <th>exercise_induced_angina</th>\n",
              "      <th>st_depression</th>\n",
              "      <th>st_slope</th>\n",
              "      <th>num_major_vessels</th>\n",
              "      <th>thalassemia</th>\n",
              "      <th>target</th>\n",
              "    </tr>\n",
              "  </thead>\n",
              "  <tbody>\n",
              "    <tr>\n",
              "      <th>0</th>\n",
              "      <td>63</td>\n",
              "      <td>1</td>\n",
              "      <td>1</td>\n",
              "      <td>145</td>\n",
              "      <td>233</td>\n",
              "      <td>1</td>\n",
              "      <td>2</td>\n",
              "      <td>150</td>\n",
              "      <td>0</td>\n",
              "      <td>2.3</td>\n",
              "      <td>3</td>\n",
              "      <td>0</td>\n",
              "      <td>6</td>\n",
              "      <td>0</td>\n",
              "    </tr>\n",
              "    <tr>\n",
              "      <th>1</th>\n",
              "      <td>67</td>\n",
              "      <td>1</td>\n",
              "      <td>4</td>\n",
              "      <td>160</td>\n",
              "      <td>286</td>\n",
              "      <td>0</td>\n",
              "      <td>2</td>\n",
              "      <td>108</td>\n",
              "      <td>1</td>\n",
              "      <td>1.5</td>\n",
              "      <td>2</td>\n",
              "      <td>3</td>\n",
              "      <td>3</td>\n",
              "      <td>1</td>\n",
              "    </tr>\n",
              "    <tr>\n",
              "      <th>2</th>\n",
              "      <td>67</td>\n",
              "      <td>1</td>\n",
              "      <td>4</td>\n",
              "      <td>120</td>\n",
              "      <td>229</td>\n",
              "      <td>0</td>\n",
              "      <td>2</td>\n",
              "      <td>129</td>\n",
              "      <td>1</td>\n",
              "      <td>2.6</td>\n",
              "      <td>2</td>\n",
              "      <td>2</td>\n",
              "      <td>7</td>\n",
              "      <td>1</td>\n",
              "    </tr>\n",
              "    <tr>\n",
              "      <th>3</th>\n",
              "      <td>37</td>\n",
              "      <td>1</td>\n",
              "      <td>3</td>\n",
              "      <td>130</td>\n",
              "      <td>250</td>\n",
              "      <td>0</td>\n",
              "      <td>0</td>\n",
              "      <td>187</td>\n",
              "      <td>0</td>\n",
              "      <td>3.5</td>\n",
              "      <td>3</td>\n",
              "      <td>0</td>\n",
              "      <td>3</td>\n",
              "      <td>0</td>\n",
              "    </tr>\n",
              "    <tr>\n",
              "      <th>4</th>\n",
              "      <td>41</td>\n",
              "      <td>0</td>\n",
              "      <td>2</td>\n",
              "      <td>130</td>\n",
              "      <td>204</td>\n",
              "      <td>0</td>\n",
              "      <td>2</td>\n",
              "      <td>172</td>\n",
              "      <td>0</td>\n",
              "      <td>1.4</td>\n",
              "      <td>1</td>\n",
              "      <td>0</td>\n",
              "      <td>3</td>\n",
              "      <td>0</td>\n",
              "    </tr>\n",
              "  </tbody>\n",
              "</table>\n",
              "</div>"
            ],
            "text/plain": [
              "   age sex chest_pain_type  ...  num_major_vessels  thalassemia target\n",
              "0   63   1               1  ...                  0            6      0\n",
              "1   67   1               4  ...                  3            3      1\n",
              "2   67   1               4  ...                  2            7      1\n",
              "3   37   1               3  ...                  0            3      0\n",
              "4   41   0               2  ...                  0            3      0\n",
              "\n",
              "[5 rows x 14 columns]"
            ]
          },
          "metadata": {
            "tags": []
          },
          "execution_count": 18
        }
      ]
    },
    {
      "cell_type": "markdown",
      "metadata": {
        "id": "lKEocNFLfwTb",
        "colab_type": "text"
      },
      "source": [
        "The data is clear and there is no anamolous instances present. We can go with the further analysis. "
      ]
    },
    {
      "cell_type": "markdown",
      "metadata": {
        "id": "M07JPz25SYmN",
        "colab_type": "text"
      },
      "source": [
        "Now, let us find the relation between numerical-to-categorical data i.e., the relation between \n",
        "\n",
        "age                   \n",
        "resting_blood_pressure    \n",
        "cholesterol                \n",
        "fasting_blood_sugar        \n",
        "max_heart_rate_achieved    \n",
        "st_depression        \n",
        "\n",
        "with the target column.      "
      ]
    },
    {
      "cell_type": "code",
      "metadata": {
        "id": "-ltzV18ITyc9",
        "colab_type": "code",
        "colab": {
          "base_uri": "https://localhost:8080/",
          "height": 422
        },
        "outputId": "002cbfee-464b-47f3-e870-10576c41ea89"
      },
      "source": [
        "fig,ax=plt.subplots(figsize=(24,6))\n",
        "plt.subplot(1, 3, 1)\n",
        "age_bins = [20,30,40,50,60,70,80]\n",
        "df['bin_age']=pd.cut(df['age'], bins=age_bins)\n",
        "g1=sns.countplot(x='bin_age',data=df ,hue='target',palette='plasma',linewidth=3)\n",
        "g1.set_title(\"Age vs Heart Disease\")\n",
        "\n",
        "plt.subplot(1, 3, 2)\n",
        "cho_bins = [100,150,200,250,300,350,400,450]\n",
        "df['bin_chol']=pd.cut(df['cholesterol'], bins=cho_bins)\n",
        "g2=sns.countplot(x='bin_chol',data=df,hue='target',palette='plasma',linewidth=3)\n",
        "g2.set_title(\"Cholestoral vs Heart Disease\")\n",
        "\n",
        "\n",
        "plt.subplot(1, 3, 3)\n",
        "thal_bins = [60,80,100,120,140,160,180,200,220]\n",
        "df['bin_thal']=pd.cut(df['max_heart_rate_achieved'], bins=thal_bins)\n",
        "g3=sns.countplot(x='bin_thal',data=df,hue='target',palette='plasma',linewidth=3)\n",
        "g3.set_title(\"Thal vs Heart Disease\")"
      ],
      "execution_count": null,
      "outputs": [
        {
          "output_type": "execute_result",
          "data": {
            "text/plain": [
              "Text(0.5, 1.0, 'Thal vs Heart Disease')"
            ]
          },
          "metadata": {
            "tags": []
          },
          "execution_count": 19
        },
        {
          "output_type": "display_data",
          "data": {
            "image/png": "[encoded data removed]",
            "text/plain": [
              "<Figure size 1728x432 with 3 Axes>"
            ]
          },
          "metadata": {
            "tags": []
          }
        }
      ]
    },
    {
      "cell_type": "markdown",
      "metadata": {
        "id": "fB3_FhazT2PT",
        "colab_type": "text"
      },
      "source": [
        "The above graph describes the distribution of heart disease concerning age, cholesterol and thal values</br>\n",
        "\n",
        "The people whose age is between 50-60 with cholesterol rate between 250-300 with thalassemia between 140-160 are prone to get heart disease.\n",
        "</br>\n",
        "Similarly, the below graph shows the relationship between the old peak with heart disease and depression rate with age."
      ]
    },
    {
      "cell_type": "code",
      "metadata": {
        "id": "0TSh0EMR7TSj",
        "colab_type": "code",
        "colab": {
          "base_uri": "https://localhost:8080/",
          "height": 422
        },
        "outputId": "7aa21b10-25b4-48d7-d14d-b69b30221cc5"
      },
      "source": [
        "fig,ax=plt.subplots(figsize=(24,6))\n",
        "plt.subplot(1, 2, 1)\n",
        "oldpeak_bins = [0,0.5,1,1.5,2,2.5,3,3.5,4,4.5,5,5.5,6,6.5]\n",
        "df['bin_oldpeak']=pd.cut(df['st_depression'], bins=oldpeak_bins)\n",
        "g3=sns.countplot(x='bin_oldpeak',data=df,hue='target',palette='plasma',linewidth=3)\n",
        "g3.set_title(\"Oldpeak vs Heart Disease\")\n",
        "\n",
        "plt.subplot(1, 2, 2)\n",
        "plt.title(\"Age vs st_depression\")\n",
        "plt.xlabel(\"st_depression\")\n",
        "plt.ylabel(\"age\")\n",
        "plt.scatter(df['st_depression'],df['age'])\n",
        "\n",
        "\n",
        "#sns.countplot(x='st_depression',data=df,hue='target')"
      ],
      "execution_count": null,
      "outputs": [
        {
          "output_type": "execute_result",
          "data": {
            "text/plain": [
              "<matplotlib.collections.PathCollection at 0x7fa73b92f1d0>"
            ]
          },
          "metadata": {
            "tags": []
          },
          "execution_count": 20
        },
        {
          "output_type": "display_data",
          "data": {
            "image/png": "[encoded data removed]",
            "text/plain": [
              "<Figure size 1728x432 with 2 Axes>"
            ]
          },
          "metadata": {
            "tags": []
          }
        }
      ]
    },
    {
      "cell_type": "markdown",
      "metadata": {
        "id": "TZyk0Ou9hv4j",
        "colab_type": "text"
      },
      "source": [
        "Let us know which gender is more prone to heart disease.\n",
        "\n"
      ]
    },
    {
      "cell_type": "code",
      "metadata": {
        "id": "oUubT37PZYpH",
        "colab_type": "code",
        "colab": {
          "base_uri": "https://localhost:8080/",
          "height": 312
        },
        "outputId": "ab868d2e-07cc-4a0b-adb2-3dfd8b7d33d8"
      },
      "source": [
        "fig, ax =plt.subplots()\n",
        "g=sns.countplot(x='sex',data=df,hue='target')\n",
        "g.set_title(\"rate of heart diseases in males and female\")\n",
        "ax.set(xticklabels=[\"Female\",\"Male\"])\n",
        "\n",
        "# Males have the highest rate of heart diseases compared to the Females. "
      ],
      "execution_count": null,
      "outputs": [
        {
          "output_type": "execute_result",
          "data": {
            "text/plain": [
              "[[Text(0, 0, 'Female'), Text(0, 0, 'Male')]]"
            ]
          },
          "metadata": {
            "tags": []
          },
          "execution_count": 21
        },
        {
          "output_type": "display_data",
          "data": {
            "image/png": "[encoded data removed]",
            "text/plain": [
              "<Figure size 432x288 with 1 Axes>"
            ]
          },
          "metadata": {
            "tags": []
          }
        }
      ]
    },
    {
      "cell_type": "markdown",
      "metadata": {
        "id": "KPrCuMa4h3Lj",
        "colab_type": "text"
      },
      "source": [
        "Males are more prone to heart disease compared to females.\n"
      ]
    },
    {
      "cell_type": "markdown",
      "metadata": {
        "id": "Y1iUS1qVh-D7",
        "colab_type": "text"
      },
      "source": [
        "Let us see which type of chest pain is caused by a person who has heart disease."
      ]
    },
    {
      "cell_type": "code",
      "metadata": {
        "id": "HgROVoXkdkGH",
        "colab_type": "code",
        "colab": {
          "base_uri": "https://localhost:8080/",
          "height": 363
        },
        "outputId": "7ecafb42-7bfb-4309-85a5-a3b76d9c0c75"
      },
      "source": [
        "fig, ax =plt.subplots()\n",
        "g=sns.countplot(x='chest_pain_type',data=df,hue='target')\n",
        "g.set_title(\"Chestpain type in association with the existance of heart disease\")\n",
        "ax.set(xticklabels=[\"typical angina\",\"atypical angina\",\"non-anginal pain\",\"asymptomatic\"])\n",
        "#Maximum of heart diseases are caused by the chest pain of type 4 i.e asymptomatic"
      ],
      "execution_count": null,
      "outputs": [
        {
          "output_type": "execute_result",
          "data": {
            "text/plain": [
              "[[Text(0, 0, 'typical angina'),\n",
              "  Text(0, 0, 'atypical angina'),\n",
              "  Text(0, 0, 'non-anginal pain'),\n",
              "  Text(0, 0, 'asymptomatic')]]"
            ]
          },
          "metadata": {
            "tags": []
          },
          "execution_count": 22
        },
        {
          "output_type": "display_data",
          "data": {
            "image/png": "[encoded data removed]",
            "text/plain": [
              "<Figure size 432x288 with 1 Axes>"
            ]
          },
          "metadata": {
            "tags": []
          }
        }
      ]
    },
    {
      "cell_type": "markdown",
      "metadata": {
        "id": "60P6lr9eiIwp",
        "colab_type": "text"
      },
      "source": [
        "Therefore, asymptomatic is the pain that causes a person to have heart disease."
      ]
    },
    {
      "cell_type": "code",
      "metadata": {
        "id": "PAPJBOQkfe-h",
        "colab_type": "code",
        "colab": {
          "base_uri": "https://localhost:8080/",
          "height": 334
        },
        "outputId": "9d3dec83-14ea-4d99-d97b-6a8aebd041be"
      },
      "source": [
        "fig, ax =plt.subplots()\n",
        "sns.countplot(x='rest_ecg',data=df,hue='target')\n",
        "g.set_title(\"Chestpain type in association with the existance of heart disease\")\n",
        "ax.set(xticklabels=[\"normal\",\"ST-T abnormality\",\"left-vent hypertrophy\"])\n",
        "# the people who has the ecg result as left ventricular hypertrophy has heart disease"
      ],
      "execution_count": null,
      "outputs": [
        {
          "output_type": "execute_result",
          "data": {
            "text/plain": [
              "[[Text(0, 0, 'normal'),\n",
              "  Text(0, 0, 'ST-T abnormality'),\n",
              "  Text(0, 0, 'left-vent hypertrophy')]]"
            ]
          },
          "metadata": {
            "tags": []
          },
          "execution_count": 23
        },
        {
          "output_type": "display_data",
          "data": {
            "image/png": "[encoded data removed]",
            "text/plain": [
              "<Figure size 432x288 with 1 Axes>"
            ]
          },
          "metadata": {
            "tags": []
          }
        }
      ]
    },
    {
      "cell_type": "markdown",
      "metadata": {
        "id": "ESxylIOpe2yu",
        "colab_type": "text"
      },
      "source": [
        "From the above plot, we can say that the people with no disease have a normal ECG report, but the people who had the disease of target 1,2,3,4 had left ventricular hypertrophy."
      ]
    },
    {
      "cell_type": "markdown",
      "metadata": {
        "id": "iAVVsATtjigL",
        "colab_type": "text"
      },
      "source": [
        "Similarly, the below plot shows that the standard slope is usually flat when there is heart disease."
      ]
    },
    {
      "cell_type": "code",
      "metadata": {
        "id": "P47bbCObgMZK",
        "colab_type": "code",
        "colab": {
          "base_uri": "https://localhost:8080/",
          "height": 301
        },
        "outputId": "6ffb5e82-2afc-4832-ae07-5e2f45870eed"
      },
      "source": [
        "fig, ax =plt.subplots()\n",
        "g=sns.countplot(x='st_slope',data=df,hue='target')\n",
        "g.set_title\n",
        "(\"peak exercise ST segment with respect to the existance of heart disease\")\n",
        "ax.set(xticklabels=[\"upsloping\",\"flat\",\"down sloping\"])\n",
        "# When the slope of ecg is flat,there is a heart disease."
      ],
      "execution_count": null,
      "outputs": [
        {
          "output_type": "execute_result",
          "data": {
            "text/plain": [
              "[[Text(0, 0, 'upsloping'), Text(0, 0, 'flat'), Text(0, 0, 'down sloping')]]"
            ]
          },
          "metadata": {
            "tags": []
          },
          "execution_count": 24
        },
        {
          "output_type": "display_data",
          "data": {
            "image/png": "[encoded data removed]",
            "text/plain": [
              "<Figure size 432x288 with 1 Axes>"
            ]
          },
          "metadata": {
            "tags": []
          }
        }
      ]
    },
    {
      "cell_type": "markdown",
      "metadata": {
        "id": "M4qULYhMjxhG",
        "colab_type": "text"
      },
      "source": [
        "Let us check when the human body is active is it leading to heart disease or not."
      ]
    },
    {
      "cell_type": "code",
      "metadata": {
        "id": "SgT3GG5Jd5RY",
        "colab_type": "code",
        "colab": {
          "base_uri": "https://localhost:8080/",
          "height": 301
        },
        "outputId": "db40aa49-9b3e-44f0-aba4-fb227e96f44f"
      },
      "source": [
        "fig, ax =plt.subplots()\n",
        "g=sns.countplot(x='exercise_induced_angina',data=df,hue='target')\n",
        "g.set_title\n",
        "(\"exercise induced angina with respect to the existance of heart disease\")\n",
        "ax.set(xticklabels=[\"no\",\"yes\"])\n",
        "# the exercise induced angina is highly yes for heart diseased patients"
      ],
      "execution_count": null,
      "outputs": [
        {
          "output_type": "execute_result",
          "data": {
            "text/plain": [
              "[[Text(0, 0, 'no'), Text(0, 0, 'yes')]]"
            ]
          },
          "metadata": {
            "tags": []
          },
          "execution_count": 113
        },
        {
          "output_type": "display_data",
          "data": {
            "image/png": "[encoded data removed]",
            "text/plain": [
              "<Figure size 432x288 with 1 Axes>"
            ]
          },
          "metadata": {
            "tags": []
          }
        }
      ]
    },
    {
      "cell_type": "markdown",
      "metadata": {
        "id": "ckXLjuIHkVps",
        "colab_type": "text"
      },
      "source": [
        "\n",
        "The angina pain caused by exercise is slightly more in the people who have heart disease."
      ]
    },
    {
      "cell_type": "markdown",
      "metadata": {
        "id": "y5SJ9gbFk9BV",
        "colab_type": "text"
      },
      "source": [
        "Usually, fasting blood sugar causes heart problems. Let us see how much this factor is contributing to heart disease.\n",
        "\n",
        "\n",
        " "
      ]
    },
    {
      "cell_type": "code",
      "metadata": {
        "id": "B_O3q63PSXsZ",
        "colab_type": "code",
        "colab": {
          "base_uri": "https://localhost:8080/",
          "height": 313
        },
        "outputId": "6c6b3f0e-81e9-488e-e98c-f5ace0b8ef07"
      },
      "source": [
        "fig, ax =plt.subplots()\n",
        "g=sns.countplot(x='fasting_blood_sugar',data=df,hue='target')\n",
        "g.set_title(\"fasting blood sugar with respect to the existance of heart disease\")\n",
        "ax.set(xticklabels=[\"false\",\"true\"])\n",
        "# tend like there is a high probability of heart disease\n",
        "#when the sugar levels are less than 120, which is unexpected finding"
      ],
      "execution_count": null,
      "outputs": [
        {
          "output_type": "execute_result",
          "data": {
            "text/plain": [
              "[[Text(0, 0, 'false'), Text(0, 0, 'true')]]"
            ]
          },
          "metadata": {
            "tags": []
          },
          "execution_count": 26
        },
        {
          "output_type": "display_data",
          "data": {
            "image/png": "[encoded data removed]",
            "text/plain": [
              "<Figure size 432x288 with 1 Axes>"
            ]
          },
          "metadata": {
            "tags": []
          }
        }
      ]
    },
    {
      "cell_type": "markdown",
      "metadata": {
        "id": "wtUNxJq6lIhN",
        "colab_type": "text"
      },
      "source": [
        "Surprisingly it is clear that there are people with high fasting blood sugar rate, but still, do not have heart disease. The chances are rare to have heart disease with this feature."
      ]
    },
    {
      "cell_type": "markdown",
      "metadata": {
        "id": "Ok7v1BLXnFEI",
        "colab_type": "text"
      },
      "source": [
        "Let us see how fluoroscopy is coloring the heart valves when there is heart disease."
      ]
    },
    {
      "cell_type": "code",
      "metadata": {
        "id": "7CZjygxzS07z",
        "colab_type": "code",
        "colab": {
          "base_uri": "https://localhost:8080/",
          "height": 301
        },
        "outputId": "6ff0d97b-2b5a-4b74-bc8f-79276487e78a"
      },
      "source": [
        "fig, ax =plt.subplots()\n",
        "g=sns.countplot(x='num_major_vessels',data=df,hue='target')\n",
        "g.set_title\n",
        "('Number of major vessels coloured by Flouroscopy with respect to the existance of heart disease')\n",
        "# vessels 1,2,3 are coloured in case of heart disease."
      ],
      "execution_count": null,
      "outputs": [
        {
          "output_type": "execute_result",
          "data": {
            "text/plain": [
              "'Number of major vessels coloured by Flouroscopy with respect to the existance of heart disease'"
            ]
          },
          "metadata": {
            "tags": []
          },
          "execution_count": 123
        },
        {
          "output_type": "display_data",
          "data": {
            "image/png": "[encoded data removed]",
            "text/plain": [
              "<Figure size 432x288 with 1 Axes>"
            ]
          },
          "metadata": {
            "tags": []
          }
        }
      ]
    },
    {
      "cell_type": "markdown",
      "metadata": {
        "id": "ssAyqwXbnOwE",
        "colab_type": "text"
      },
      "source": [
        " vessels 1,2,3 are coloured in case of heart disease."
      ]
    },
    {
      "cell_type": "markdown",
      "metadata": {
        "id": "WRP7hUOjnYS2",
        "colab_type": "text"
      },
      "source": [
        "let us see the thalassemia, which is the only hereditary feature of our dataset is representing the heart disease."
      ]
    },
    {
      "cell_type": "code",
      "metadata": {
        "id": "YdBtLg0hniai",
        "colab_type": "code",
        "colab": {
          "base_uri": "https://localhost:8080/",
          "height": 346
        },
        "outputId": "03769910-7a1e-4a05-c64a-910acba9cfcf"
      },
      "source": [
        "fig, ax =plt.subplots()\n",
        "g=sns.countplot(x='thalassemia',data=df,hue='target')\n",
        "g.set_title(\"thalassemia with respect to the existance of heart disease\")\n",
        "ax.set(xticklabels=[\"normal\",\"fixed defect\",\"reversable defect\"])\n",
        "# Reversible defect thalassemia is highly correlated with the heart disease.\n",
        "#Note: this is the only heriditary feature ."
      ],
      "execution_count": null,
      "outputs": [
        {
          "output_type": "execute_result",
          "data": {
            "text/plain": [
              "[[Text(0, 0, 'normal'),\n",
              "  Text(0, 0, 'fixed defect'),\n",
              "  Text(0, 0, 'reversable defect')]]"
            ]
          },
          "metadata": {
            "tags": []
          },
          "execution_count": 28
        },
        {
          "output_type": "display_data",
          "data": {
            "image/png": "[encoded data removed]",
            "text/plain": [
              "<Figure size 432x288 with 1 Axes>"
            ]
          },
          "metadata": {
            "tags": []
          }
        }
      ]
    },
    {
      "cell_type": "markdown",
      "metadata": {
        "id": "QT-6eyjEnmNj",
        "colab_type": "text"
      },
      "source": [
        "The reversible defect, which is one of the types of heart disease, is causing the highest cases of heart disease."
      ]
    },
    {
      "cell_type": "markdown",
      "metadata": {
        "id": "eXsK77_xGKaM",
        "colab_type": "text"
      },
      "source": [
        "We need further comparision between continuous features and categorical features to better understand the dependent and independent variables."
      ]
    },
    {
      "cell_type": "code",
      "metadata": {
        "id": "vZLfDqqkE5nM",
        "colab_type": "code",
        "colab": {
          "base_uri": "https://localhost:8080/",
          "height": 638
        },
        "outputId": "4109c072-f8f3-419e-b119-1359acf18646"
      },
      "source": [
        "# Usually cholesterol(continous value) leads to the heart disease. I need to find the pattern of cholesterol with sex, chestpain and thalassemia.\n",
        "fig,ax=plt.subplots(2,2,figsize=(14,10))\n",
        "sns.boxplot(y='cholesterol',data=df,x='sex',hue='target',palette='Set3',ax=ax[0,0])\n",
        "ax[0,0].set_title(\"Cholestrol V/S Sex\")\n",
        "ax[0,0].set(xticklabels=[\"Female\",\"Male\"])\n",
        "\n",
        "sns.boxplot(y='cholesterol',data=df,x='chest_pain_type',\n",
        "            hue='target',ax=ax[0,1],palette='Set3')\n",
        "ax[0,1].set_title(\"Cholestrol V/S Chest Pain\")\n",
        "ax[0,1].set(xticklabels=\n",
        "        [\"typical angina\",\"atypical angina\",\"non-anginal pain\",\"asymptomatic\"])\n",
        "\n",
        "sns.swarmplot(y='cholesterol',data=df,\n",
        "             x='thalassemia',hue='target',ax=ax[1,0],palette='Set3')\n",
        "ax[1,0].set_title(\"Cholestrol V/S Thal\")\n",
        "ax[1,0].set(xticklabels=[\"normal\",\"fixed defect\",\"reversable defect\"])\n",
        "\n",
        "sns.swarmplot(y='cholesterol',data=df,\n",
        "            x='fasting_blood_sugar',hue='target',ax=ax[1,1],palette='Set3')\n",
        "ax[1,1].set_title(\"Cholestrol V/S Blood Sugar\")\n",
        "ax[1,1].set(xticklabels=[\"false\",\"true\"])"
      ],
      "execution_count": null,
      "outputs": [
        {
          "output_type": "execute_result",
          "data": {
            "text/plain": [
              "[[Text(0, 0, 'false'), Text(0, 0, 'true')]]"
            ]
          },
          "metadata": {
            "tags": []
          },
          "execution_count": 29
        },
        {
          "output_type": "display_data",
          "data": {
            "image/png": "[encoded data removed]",
            "text/plain": [
              "<Figure size 1008x720 with 4 Axes>"
            ]
          },
          "metadata": {
            "tags": []
          }
        }
      ]
    },
    {
      "cell_type": "markdown",
      "metadata": {
        "id": "0YC1Ado2MFAI",
        "colab_type": "text"
      },
      "source": [
        "From the graph above, we can determine that females have the highest level of cholesterol compared to males, but males have the highest rate of heart diseases. Moreover, the increase in the cholesterol leads to chest pain of type 4 and reversible defect thalassemia.\n",
        "\n",
        "The blood sugar and cholesterol combination are not much contributing to heart disease. "
      ]
    },
    {
      "cell_type": "markdown",
      "metadata": {
        "id": "iqHQDCV_MEsh",
        "colab_type": "text"
      },
      "source": [
        "Let us find the pattern between st_depression, chest_pain_type, and thalassemia."
      ]
    },
    {
      "cell_type": "code",
      "metadata": {
        "id": "EhQFm22iZy6t",
        "colab_type": "code",
        "colab": {
          "base_uri": "https://localhost:8080/",
          "height": 638
        },
        "outputId": "5332f40c-df85-4f23-f845-1eb1ee9a5a49"
      },
      "source": [
        "fig,ax=plt.subplots(2,2,figsize=(14,10))\n",
        "\n",
        "ax[0,0].set_title(\"st_depression V/S Sex\")\n",
        "sns.boxplot(y='st_depression',data=df,x='sex',hue='target',\n",
        "            palette='Set1',ax=ax[0,0])\n",
        "ax[0,0].set(xticklabels=[\"Female\",\"Male\"])\n",
        "\n",
        "ax[0,1].set_title(\"st_depression V/S Chest Pain\")\n",
        "sns.boxplot(y='st_depression',data=df,x='chest_pain_type',\n",
        "            hue='target',ax=ax[0,1],palette='Set1')\n",
        "ax[0,1].set(xticklabels=[\"typical angina\",\"atypical angina\",\n",
        "                         \"non-anginal pain\",\"asymptomatic\"])\n",
        "\n",
        "ax[1,0].set_title(\"st_depression V/S Thal\")\n",
        "sns.boxplot(y='st_depression',data=df,x='thalassemia',hue='target',\n",
        "            ax=ax[1,0],palette='Set1')\n",
        "ax[1,0].set(xticklabels=[\"normal\",\"fixed defect\",\"reversable defect\"])\n",
        "\n",
        "ax[1,1].set_title(\"st_depression V/S CA\")\n",
        "sns.boxplot(y='st_depression',data=df,x='num_major_vessels',\n",
        "            hue='target',ax=ax[1,1],palette='Set1')\n",
        "ax[0,0].set(xticklabels=[\"Female\",\"Male\"])\n",
        "\n",
        "\n"
      ],
      "execution_count": null,
      "outputs": [
        {
          "output_type": "execute_result",
          "data": {
            "text/plain": [
              "[[Text(0, 0, 'Female'), Text(0, 0, 'Male')]]"
            ]
          },
          "metadata": {
            "tags": []
          },
          "execution_count": 30
        },
        {
          "output_type": "display_data",
          "data": {
            "image/png": "[encoded data removed]",
            "text/plain": [
              "<Figure size 1008x720 with 4 Axes>"
            ]
          },
          "metadata": {
            "tags": []
          }
        }
      ]
    },
    {
      "cell_type": "markdown",
      "metadata": {
        "id": "vXIffmdabZdP",
        "colab_type": "text"
      },
      "source": [
        "From the above graphs, we can conclude that st_depression in the range of 1.5 - 2.5 causes heart disease in males and females. Also, the higher the depression rate, the higher the pain. \n",
        "All in all, the essential factor is st_depression "
      ]
    },
    {
      "cell_type": "markdown",
      "metadata": {
        "id": "-vF5409IcXno",
        "colab_type": "text"
      },
      "source": [
        "Next, let us will find the pattern between chest pain type and blood pressure."
      ]
    },
    {
      "cell_type": "code",
      "metadata": {
        "id": "HrT4TLZhcolV",
        "colab_type": "code",
        "colab": {
          "base_uri": "https://localhost:8080/",
          "height": 368
        },
        "outputId": "6f51320e-18d9-4a76-e887-c65241a4a23c"
      },
      "source": [
        "\n",
        "fig,ax=plt.subplots(1,2,figsize=(23,5))\n",
        "ax[0].set_title(\"Trestbps V/S Sex\")\n",
        "sns.boxplot(y='resting_blood_pressure',data=df,x='sex',hue='target',palette='Set2',ax=ax[0])\n",
        "\n",
        "ax[1].set_title(\"Trestbps V/S Chest Pain\")\n",
        "sns.boxplot(y='resting_blood_pressure',data=df,x='chest_pain_type',hue='target',ax=ax[1],palette='Set2')\n",
        "\n",
        "\n"
      ],
      "execution_count": null,
      "outputs": [
        {
          "output_type": "execute_result",
          "data": {
            "text/plain": [
              "<matplotlib.axes._subplots.AxesSubplot at 0x7fa737f442b0>"
            ]
          },
          "metadata": {
            "tags": []
          },
          "execution_count": 122
        },
        {
          "output_type": "display_data",
          "data": {
            "image/png": "[encoded data removed]",
            "text/plain": [
              "<Figure size 1656x360 with 2 Axes>"
            ]
          },
          "metadata": {
            "tags": []
          }
        }
      ]
    },
    {
      "cell_type": "markdown",
      "metadata": {
        "id": "5qvfey5zhbTF",
        "colab_type": "text"
      },
      "source": [
        "From the above graph, we can conclude that the blood pressure is high during the chest pain, and females have high blood pressure when they have heart disease."
      ]
    },
    {
      "cell_type": "code",
      "metadata": {
        "id": "BTvuOj_TRT7W",
        "colab_type": "code",
        "colab": {
          "base_uri": "https://localhost:8080/",
          "height": 299
        },
        "outputId": "e6daad21-7231-4ab6-f9ef-26bdf30933c0"
      },
      "source": [
        "df.head()\n",
        "#df.tail()"
      ],
      "execution_count": null,
      "outputs": [
        {
          "output_type": "execute_result",
          "data": {
            "text/html": [
              "<div>\n",
              "<style scoped>\n",
              "    .dataframe tbody tr th:only-of-type {\n",
              "        vertical-align: middle;\n",
              "    }\n",
              "\n",
              "    .dataframe tbody tr th {\n",
              "        vertical-align: top;\n",
              "    }\n",
              "\n",
              "    .dataframe thead th {\n",
              "        text-align: right;\n",
              "    }\n",
              "</style>\n",
              "<table border=\"1\" class=\"dataframe\">\n",
              "  <thead>\n",
              "    <tr style=\"text-align: right;\">\n",
              "      <th></th>\n",
              "      <th>age</th>\n",
              "      <th>sex</th>\n",
              "      <th>chest_pain_type</th>\n",
              "      <th>resting_blood_pressure</th>\n",
              "      <th>cholesterol</th>\n",
              "      <th>fasting_blood_sugar</th>\n",
              "      <th>rest_ecg</th>\n",
              "      <th>max_heart_rate_achieved</th>\n",
              "      <th>exercise_induced_angina</th>\n",
              "      <th>st_depression</th>\n",
              "      <th>st_slope</th>\n",
              "      <th>num_major_vessels</th>\n",
              "      <th>thalassemia</th>\n",
              "      <th>target</th>\n",
              "      <th>bin_age</th>\n",
              "      <th>bin_chol</th>\n",
              "      <th>bin_thal</th>\n",
              "      <th>bin_oldpeak</th>\n",
              "    </tr>\n",
              "  </thead>\n",
              "  <tbody>\n",
              "    <tr>\n",
              "      <th>0</th>\n",
              "      <td>63</td>\n",
              "      <td>1</td>\n",
              "      <td>1</td>\n",
              "      <td>145</td>\n",
              "      <td>233</td>\n",
              "      <td>1</td>\n",
              "      <td>2</td>\n",
              "      <td>150</td>\n",
              "      <td>0</td>\n",
              "      <td>2.3</td>\n",
              "      <td>3</td>\n",
              "      <td>0</td>\n",
              "      <td>6</td>\n",
              "      <td>0</td>\n",
              "      <td>(60, 70]</td>\n",
              "      <td>(200, 250]</td>\n",
              "      <td>(140, 160]</td>\n",
              "      <td>(2.0, 2.5]</td>\n",
              "    </tr>\n",
              "    <tr>\n",
              "      <th>1</th>\n",
              "      <td>67</td>\n",
              "      <td>1</td>\n",
              "      <td>4</td>\n",
              "      <td>160</td>\n",
              "      <td>286</td>\n",
              "      <td>0</td>\n",
              "      <td>2</td>\n",
              "      <td>108</td>\n",
              "      <td>1</td>\n",
              "      <td>1.5</td>\n",
              "      <td>2</td>\n",
              "      <td>3</td>\n",
              "      <td>3</td>\n",
              "      <td>1</td>\n",
              "      <td>(60, 70]</td>\n",
              "      <td>(250, 300]</td>\n",
              "      <td>(100, 120]</td>\n",
              "      <td>(1.0, 1.5]</td>\n",
              "    </tr>\n",
              "    <tr>\n",
              "      <th>2</th>\n",
              "      <td>67</td>\n",
              "      <td>1</td>\n",
              "      <td>4</td>\n",
              "      <td>120</td>\n",
              "      <td>229</td>\n",
              "      <td>0</td>\n",
              "      <td>2</td>\n",
              "      <td>129</td>\n",
              "      <td>1</td>\n",
              "      <td>2.6</td>\n",
              "      <td>2</td>\n",
              "      <td>2</td>\n",
              "      <td>7</td>\n",
              "      <td>1</td>\n",
              "      <td>(60, 70]</td>\n",
              "      <td>(200, 250]</td>\n",
              "      <td>(120, 140]</td>\n",
              "      <td>(2.5, 3.0]</td>\n",
              "    </tr>\n",
              "    <tr>\n",
              "      <th>3</th>\n",
              "      <td>37</td>\n",
              "      <td>1</td>\n",
              "      <td>3</td>\n",
              "      <td>130</td>\n",
              "      <td>250</td>\n",
              "      <td>0</td>\n",
              "      <td>0</td>\n",
              "      <td>187</td>\n",
              "      <td>0</td>\n",
              "      <td>3.5</td>\n",
              "      <td>3</td>\n",
              "      <td>0</td>\n",
              "      <td>3</td>\n",
              "      <td>0</td>\n",
              "      <td>(30, 40]</td>\n",
              "      <td>(200, 250]</td>\n",
              "      <td>(180, 200]</td>\n",
              "      <td>(3.0, 3.5]</td>\n",
              "    </tr>\n",
              "    <tr>\n",
              "      <th>4</th>\n",
              "      <td>41</td>\n",
              "      <td>0</td>\n",
              "      <td>2</td>\n",
              "      <td>130</td>\n",
              "      <td>204</td>\n",
              "      <td>0</td>\n",
              "      <td>2</td>\n",
              "      <td>172</td>\n",
              "      <td>0</td>\n",
              "      <td>1.4</td>\n",
              "      <td>1</td>\n",
              "      <td>0</td>\n",
              "      <td>3</td>\n",
              "      <td>0</td>\n",
              "      <td>(40, 50]</td>\n",
              "      <td>(200, 250]</td>\n",
              "      <td>(160, 180]</td>\n",
              "      <td>(1.0, 1.5]</td>\n",
              "    </tr>\n",
              "  </tbody>\n",
              "</table>\n",
              "</div>"
            ],
            "text/plain": [
              "   age sex chest_pain_type  ...    bin_chol    bin_thal bin_oldpeak\n",
              "0   63   1               1  ...  (200, 250]  (140, 160]  (2.0, 2.5]\n",
              "1   67   1               4  ...  (250, 300]  (100, 120]  (1.0, 1.5]\n",
              "2   67   1               4  ...  (200, 250]  (120, 140]  (2.5, 3.0]\n",
              "3   37   1               3  ...  (200, 250]  (180, 200]  (3.0, 3.5]\n",
              "4   41   0               2  ...  (200, 250]  (160, 180]  (1.0, 1.5]\n",
              "\n",
              "[5 rows x 18 columns]"
            ]
          },
          "metadata": {
            "tags": []
          },
          "execution_count": 32
        }
      ]
    },
    {
      "cell_type": "markdown",
      "metadata": {
        "id": "jMbojIaIoAeo",
        "colab_type": "text"
      },
      "source": [
        "Remember that we added bin features that act as intervals to visualize the distribution of age, cholesterol, and old peak. We need no longer need them, so let us delete them."
      ]
    },
    {
      "cell_type": "code",
      "metadata": {
        "id": "t0WoFZVkB3b_",
        "colab_type": "code",
        "colab": {}
      },
      "source": [
        "df.drop(columns=[\"bin_age\",\t\"bin_chol\",\"bin_thal\"], inplace=True)"
      ],
      "execution_count": null,
      "outputs": []
    },
    {
      "cell_type": "markdown",
      "metadata": {
        "id": "36oRL1KYocNC",
        "colab_type": "text"
      },
      "source": [
        "Finally, in our analysis of the features, we confirm that all the features expect fasting blood sugar is contributing to determining the heart disease.\n",
        "\n",
        "Also, box plots show that there is a large number of outliers in the data.\n"
      ]
    },
    {
      "cell_type": "code",
      "metadata": {
        "id": "O6yGJ09-o8bT",
        "colab_type": "code",
        "colab": {}
      },
      "source": [
        "df=df.drop(columns=['fasting_blood_sugar'])"
      ],
      "execution_count": null,
      "outputs": []
    },
    {
      "cell_type": "code",
      "metadata": {
        "id": "HMYSFtIbCKlg",
        "colab_type": "code",
        "colab": {
          "base_uri": "https://localhost:8080/",
          "height": 215
        },
        "outputId": "62dc9c6d-d638-4905-96c5-cae0dac1282d"
      },
      "source": [
        "df.head()"
      ],
      "execution_count": null,
      "outputs": [
        {
          "output_type": "execute_result",
          "data": {
            "text/html": [
              "<div>\n",
              "<style scoped>\n",
              "    .dataframe tbody tr th:only-of-type {\n",
              "        vertical-align: middle;\n",
              "    }\n",
              "\n",
              "    .dataframe tbody tr th {\n",
              "        vertical-align: top;\n",
              "    }\n",
              "\n",
              "    .dataframe thead th {\n",
              "        text-align: right;\n",
              "    }\n",
              "</style>\n",
              "<table border=\"1\" class=\"dataframe\">\n",
              "  <thead>\n",
              "    <tr style=\"text-align: right;\">\n",
              "      <th></th>\n",
              "      <th>age</th>\n",
              "      <th>sex</th>\n",
              "      <th>chest_pain_type</th>\n",
              "      <th>resting_blood_pressure</th>\n",
              "      <th>cholesterol</th>\n",
              "      <th>rest_ecg</th>\n",
              "      <th>max_heart_rate_achieved</th>\n",
              "      <th>exercise_induced_angina</th>\n",
              "      <th>st_depression</th>\n",
              "      <th>st_slope</th>\n",
              "      <th>num_major_vessels</th>\n",
              "      <th>thalassemia</th>\n",
              "      <th>target</th>\n",
              "    </tr>\n",
              "  </thead>\n",
              "  <tbody>\n",
              "    <tr>\n",
              "      <th>0</th>\n",
              "      <td>63</td>\n",
              "      <td>1</td>\n",
              "      <td>1</td>\n",
              "      <td>145</td>\n",
              "      <td>233</td>\n",
              "      <td>2</td>\n",
              "      <td>150</td>\n",
              "      <td>0</td>\n",
              "      <td>2.3</td>\n",
              "      <td>3</td>\n",
              "      <td>0</td>\n",
              "      <td>6</td>\n",
              "      <td>0</td>\n",
              "    </tr>\n",
              "    <tr>\n",
              "      <th>1</th>\n",
              "      <td>67</td>\n",
              "      <td>1</td>\n",
              "      <td>4</td>\n",
              "      <td>160</td>\n",
              "      <td>286</td>\n",
              "      <td>2</td>\n",
              "      <td>108</td>\n",
              "      <td>1</td>\n",
              "      <td>1.5</td>\n",
              "      <td>2</td>\n",
              "      <td>3</td>\n",
              "      <td>3</td>\n",
              "      <td>1</td>\n",
              "    </tr>\n",
              "    <tr>\n",
              "      <th>2</th>\n",
              "      <td>67</td>\n",
              "      <td>1</td>\n",
              "      <td>4</td>\n",
              "      <td>120</td>\n",
              "      <td>229</td>\n",
              "      <td>2</td>\n",
              "      <td>129</td>\n",
              "      <td>1</td>\n",
              "      <td>2.6</td>\n",
              "      <td>2</td>\n",
              "      <td>2</td>\n",
              "      <td>7</td>\n",
              "      <td>1</td>\n",
              "    </tr>\n",
              "    <tr>\n",
              "      <th>3</th>\n",
              "      <td>37</td>\n",
              "      <td>1</td>\n",
              "      <td>3</td>\n",
              "      <td>130</td>\n",
              "      <td>250</td>\n",
              "      <td>0</td>\n",
              "      <td>187</td>\n",
              "      <td>0</td>\n",
              "      <td>3.5</td>\n",
              "      <td>3</td>\n",
              "      <td>0</td>\n",
              "      <td>3</td>\n",
              "      <td>0</td>\n",
              "    </tr>\n",
              "    <tr>\n",
              "      <th>4</th>\n",
              "      <td>41</td>\n",
              "      <td>0</td>\n",
              "      <td>2</td>\n",
              "      <td>130</td>\n",
              "      <td>204</td>\n",
              "      <td>2</td>\n",
              "      <td>172</td>\n",
              "      <td>0</td>\n",
              "      <td>1.4</td>\n",
              "      <td>1</td>\n",
              "      <td>0</td>\n",
              "      <td>3</td>\n",
              "      <td>0</td>\n",
              "    </tr>\n",
              "  </tbody>\n",
              "</table>\n",
              "</div>"
            ],
            "text/plain": [
              "   age sex chest_pain_type  ...  num_major_vessels  thalassemia target\n",
              "0   63   1               1  ...                  0            6      0\n",
              "1   67   1               4  ...                  3            3      1\n",
              "2   67   1               4  ...                  2            7      1\n",
              "3   37   1               3  ...                  0            3      0\n",
              "4   41   0               2  ...                  0            3      0\n",
              "\n",
              "[5 rows x 13 columns]"
            ]
          },
          "metadata": {
            "tags": []
          },
          "execution_count": 125
        }
      ]
    },
    {
      "cell_type": "markdown",
      "metadata": {
        "id": "igcBegzEpBvC",
        "colab_type": "text"
      },
      "source": [
        "Now the data has all the features for further analysis."
      ]
    },
    {
      "cell_type": "markdown",
      "metadata": {
        "id": "cOcai05TCS9k",
        "colab_type": "text"
      },
      "source": [
        "\n",
        "\n",
        "---\n",
        "\n",
        "<h1><center>Assignment - 4</center></h1>"
      ]
    },
    {
      "cell_type": "markdown",
      "metadata": {
        "id": "b-01_EVLCioR",
        "colab_type": "text"
      },
      "source": [
        "In this Assignment, we are going to apply some Machine Learning algorithms to solve the problem statement. The one which has the highest precision and best accuracy is selected as the best model for this dataset."
      ]
    },
    {
      "cell_type": "markdown",
      "metadata": {
        "id": "2OUU7d9bELKt",
        "colab_type": "text"
      },
      "source": [
        "<h2>Determining a Model:</h2>\n",
        "\n",
        "Clearly, from the problem statement, it is evident that it is a classification problem for the prediction of heart disease, i.e., prediction=0 means no heart disease, prediction =1 heart disease exists. Therefore, an appropriate Classification Model should be selected.\n",
        "\n",
        "<h3> What is Classification Model ?</h3>\n",
        "Classification is a supervised learning approach in which the computer learns from training data and uses this learning to predict one or more outcomes of a new observation.\n",
        "\n",
        "There are two types of a classification model\n",
        "\n",
        "1. Bi-class model: When the instances of the dataset are classified into only two classes.</br>\n",
        "    E.g., The outcome of tossing a coin is either heads or tails.\n",
        "    \n",
        "2. Multi-class model: When the instances of the dataset are classified into more than two classes.</br>\n",
        "    E.g., the grouping of teams into \"Red,\" \"Green,\" \"Blue.\"\n",
        "    \n",
        "By looking at the target column in the dataset, we confirm that it is a **Bi-class model.**\n",
        "\n",
        "By following the flow chart provided by Scikit learn for model selection. The following are the classification models selected.\n",
        "\n",
        "1. Logistic Regression\n",
        "2. Naive Bayes Classification\n",
        "3. Linear SVC\n",
        "\n",
        "\n",
        "Before starting with the exploration of each algorithm, let us look at the standard evaluation techniques used commonly in the classification models."
      ]
    },
    {
      "cell_type": "markdown",
      "metadata": {
        "id": "AFf46xsNOcFD",
        "colab_type": "text"
      },
      "source": [
        "<h2>Evaluation Technique</h2>"
      ]
    },
    {
      "cell_type": "markdown",
      "metadata": {
        "id": "QLbq16iYPOfK",
        "colab_type": "text"
      },
      "source": [
        "To evaluate which model is best for this dataset, we use **Confusion Matrix** and **ROC and AUC** evaluation techniques. \n",
        "\n",
        "<h3>Confusion Matrix</h3>: This technique is extensively used in Machine Learning to describe the performance of a classification model. It is also known as **Error Matrix **. </br>\n",
        "\n",
        "It is used to find the accuracy of the prediction of test data for which the actual values are known. The Confusion Matrix compares the correct values with the predicted values and then compute how many instances have been predicted correctly and how many instances are mispredicted. \n",
        "\n",
        "The block diagram of Confusion Matrix for Bi-class prediction [ref]:\n",
        "\n",
        "![](https://miro.medium.com/max/712/1*Z54JgbS4DUwWSknhDCvNTQ.png)\n",
        "\n",
        "\n"
      ]
    },
    {
      "cell_type": "markdown",
      "metadata": {
        "id": "bFbhdb3AUeOV",
        "colab_type": "text"
      },
      "source": [
        "**Definition of terms:** </br>\n",
        "P: Positive Observation </br>\n",
        "N: Negative Observation </br>\n",
        "\n",
        "TP: Observation from test data is Positive and prediction is also Positive </br>\n",
        "FP: Observation from test data is Positive but the model has predicted it as Negative </br>\n",
        "\n",
        "FN: Observation is Negative but the model predicted as Positive </br>\n",
        "TN: Observation in the test data is Negative but it is predicted as Positive </br>"
      ]
    },
    {
      "cell_type": "markdown",
      "metadata": {
        "id": "_ZXmnbeUWRHz",
        "colab_type": "text"
      },
      "source": [
        "**Classification Rate:**\n",
        "\n",
        "**Accuracy:**  How often the model predicts correctly is computed by finding the ratio of correctly predicted observations to the total number of observations.\n",
        " </br>\n",
        "   $\\frac{TP \\, + \\, TN} {TP \\, + \\, TN \\, + \\,FP \\, + \\,FN}$\n",
        "\n",
        "</br>\n",
        "\n",
        "**Recall:**  It is the ratio of the total number of positively classified to the total number of correctly classified. </br>\n",
        "  $\\frac{TP } {TP \\, + \\,FN}$\n",
        "  \n",
        "  </br>\n",
        "  \n",
        "  \n",
        "  **Precision:** It is the ratio of the correctly predicted positive observations to the total predicted positive observations.</br>\n",
        "  $\\frac{TP } {TP \\, + \\,FP}$\n",
        "  \n",
        "  </br>\n",
        "  \n",
        "  **F1-Score:** It is an average of Precision and  Recall.\n",
        "  F1 = 2 * (precision * recall) / (precision + recall) -------------------------eee---------------\n",
        "  \n",
        "  The above four measures should be computed for each classification model.\n",
        "  \n"
      ]
    },
    {
      "cell_type": "markdown",
      "metadata": {
        "id": "cPWToNLdJSJW",
        "colab_type": "text"
      },
      "source": [
        "**<h3>ROC and AUC Evaluation:</h3>**\n",
        "ROC is a plot of the true positive rate (on the y-axis) to the false positive rate( on the x-axis) for every possible classification which ranges from 0 to 1.</br>\n",
        "We cannot see the thresholds which are used to generate the ROC curve </br>\n",
        "If the classifier model wrongly predicts, then there will be a diagonal line instead of a curve between x and y axes.\n",
        "</br>\n",
        "AUC is the percentage of the curve between x and y axes.</br>\n",
        "An inferior classifier model has the AUC of 0.5, which means that the model is guessing the predictions randomly.\n",
        "</br>\n",
        "If AUC = 1.0, it is considered as a perfect classifier."
      ]
    },
    {
      "cell_type": "markdown",
      "metadata": {
        "id": "W7-kBZzsI5MM",
        "colab_type": "text"
      },
      "source": [
        "<h2>Scaling the data</h2> \n",
        "\n",
        "when the features are not normally distributed, standardizing the data is a pervasive approach in Machine Learning. \n",
        "\n",
        "Note that we have categorical and continuous features in our dataset. We need to apply different scales based on their type. Therefore, we need to separate the categorical and continuous features and scale them individually.\n",
        "\n",
        "**Continuous Features:**\n",
        "\n",
        "In the heart-disease data set, we have observed that the features are not normally distributed. The **Standard Scaler** is used to normalize the data by transforming the mean of each feature to zero and variance to 1.\n",
        "\n",
        "**Categorical Features:**\n",
        "\n",
        "These features should be converted into a format such that it will be easy for our classification model to predict the outcome. Not all the algorithms can fit the categorical data directly. Therefore, we need to convert the categorical data into a numerical format using **One-hot encoder**.  In this scaling, an additional feature for each category is added to the dataset.\n",
        "\n",
        "E.g., if a feature has three categories, 3,9,7 this feature will create three more features feature_3, feature_9 and feature_7. If the instance belongs to category 3, feature_3 contains 1, and other categorical-features will contain 0.\n",
        "\n",
        "The One-hot encoder does this work for us."
      ]
    },
    {
      "cell_type": "code",
      "metadata": {
        "id": "_WMdkiNjRVXZ",
        "colab_type": "code",
        "colab": {
          "base_uri": "https://localhost:8080/",
          "height": 195
        },
        "outputId": "54001b53-46bb-41fc-9bb0-26822019048f"
      },
      "source": [
        "\"\"\"Storing the target column in a variable and dropping fast.blood sugar as we \n",
        "no longer need it\"\"\"\n",
        "data_label= df['target']\n",
        "df=df.drop(columns=['target'])\n",
        "data_label=pd.DataFrame(data_label)\n",
        "\n",
        "data_label.head()"
      ],
      "execution_count": null,
      "outputs": [
        {
          "output_type": "execute_result",
          "data": {
            "text/html": [
              "<div>\n",
              "<style scoped>\n",
              "    .dataframe tbody tr th:only-of-type {\n",
              "        vertical-align: middle;\n",
              "    }\n",
              "\n",
              "    .dataframe tbody tr th {\n",
              "        vertical-align: top;\n",
              "    }\n",
              "\n",
              "    .dataframe thead th {\n",
              "        text-align: right;\n",
              "    }\n",
              "</style>\n",
              "<table border=\"1\" class=\"dataframe\">\n",
              "  <thead>\n",
              "    <tr style=\"text-align: right;\">\n",
              "      <th></th>\n",
              "      <th>target</th>\n",
              "    </tr>\n",
              "  </thead>\n",
              "  <tbody>\n",
              "    <tr>\n",
              "      <th>0</th>\n",
              "      <td>0</td>\n",
              "    </tr>\n",
              "    <tr>\n",
              "      <th>1</th>\n",
              "      <td>1</td>\n",
              "    </tr>\n",
              "    <tr>\n",
              "      <th>2</th>\n",
              "      <td>1</td>\n",
              "    </tr>\n",
              "    <tr>\n",
              "      <th>3</th>\n",
              "      <td>0</td>\n",
              "    </tr>\n",
              "    <tr>\n",
              "      <th>4</th>\n",
              "      <td>0</td>\n",
              "    </tr>\n",
              "  </tbody>\n",
              "</table>\n",
              "</div>"
            ],
            "text/plain": [
              "   target\n",
              "0       0\n",
              "1       1\n",
              "2       1\n",
              "3       0\n",
              "4       0"
            ]
          },
          "metadata": {
            "tags": []
          },
          "execution_count": 35
        }
      ]
    },
    {
      "cell_type": "code",
      "metadata": {
        "id": "dc45QeWlbhBb",
        "colab_type": "code",
        "colab": {}
      },
      "source": [
        "\"\"\"Seperating the categorical and numerical data\"\"\"\n",
        "numerical_Data=df.select_dtypes(include=[np.float64,np.int64])\n",
        "categorical_Data=df.select_dtypes(include=[object])"
      ],
      "execution_count": null,
      "outputs": []
    },
    {
      "cell_type": "markdown",
      "metadata": {
        "id": "fEr1RSGciHB8",
        "colab_type": "text"
      },
      "source": [
        "Pandas have an equivalent method for One-hot encoding i.e. pd.get_dummies. This method has the same functionality as on-hot encoding."
      ]
    },
    {
      "cell_type": "code",
      "metadata": {
        "id": "vrd6r0bqbkDz",
        "colab_type": "code",
        "colab": {
          "base_uri": "https://localhost:8080/",
          "height": 34
        },
        "outputId": "9696739f-5b0a-4992-fca2-a7c02bbfbe3c"
      },
      "source": [
        "categorical_Data=pd.get_dummies(categorical_Data,drop_first=True)\n",
        "categorical_Data.shape"
      ],
      "execution_count": null,
      "outputs": [
        {
          "output_type": "execute_result",
          "data": {
            "text/plain": [
              "(297, 14)"
            ]
          },
          "metadata": {
            "tags": []
          },
          "execution_count": 37
        }
      ]
    },
    {
      "cell_type": "code",
      "metadata": {
        "id": "OZ1V6u_bbs7K",
        "colab_type": "code",
        "colab": {
          "base_uri": "https://localhost:8080/",
          "height": 229
        },
        "outputId": "5a438c5c-650a-4910-c9ce-f80c610a8aff"
      },
      "source": [
        "# Converting numerical data into standard scalar\n",
        "\n",
        "scaler = StandardScaler()\n",
        "#scaler.fit(numerical_Data)\n",
        "\n",
        "\n",
        "data_scaled=scaler.fit_transform(numerical_Data)\n",
        "#data_scaled=scaler.transform(numerical_Data)\n",
        "numerical_Data=pd.DataFrame(data=data_scaled, columns=numerical_Data.columns)\n",
        "\n",
        "print(numerical_Data.shape)\n",
        "print(data_label.shape)\n",
        "numerical_Data.tail()\n",
        "\n",
        "\n"
      ],
      "execution_count": null,
      "outputs": [
        {
          "output_type": "stream",
          "text": [
            "(297, 5)\n",
            "(297, 1)\n"
          ],
          "name": "stdout"
        },
        {
          "output_type": "execute_result",
          "data": {
            "text/html": [
              "<div>\n",
              "<style scoped>\n",
              "    .dataframe tbody tr th:only-of-type {\n",
              "        vertical-align: middle;\n",
              "    }\n",
              "\n",
              "    .dataframe tbody tr th {\n",
              "        vertical-align: top;\n",
              "    }\n",
              "\n",
              "    .dataframe thead th {\n",
              "        text-align: right;\n",
              "    }\n",
              "</style>\n",
              "<table border=\"1\" class=\"dataframe\">\n",
              "  <thead>\n",
              "    <tr style=\"text-align: right;\">\n",
              "      <th></th>\n",
              "      <th>age</th>\n",
              "      <th>resting_blood_pressure</th>\n",
              "      <th>cholesterol</th>\n",
              "      <th>max_heart_rate_achieved</th>\n",
              "      <th>st_depression</th>\n",
              "    </tr>\n",
              "  </thead>\n",
              "  <tbody>\n",
              "    <tr>\n",
              "      <th>292</th>\n",
              "      <td>0.272059</td>\n",
              "      <td>0.468418</td>\n",
              "      <td>-0.122330</td>\n",
              "      <td>-1.161395</td>\n",
              "      <td>-0.734914</td>\n",
              "    </tr>\n",
              "    <tr>\n",
              "      <th>293</th>\n",
              "      <td>-1.056185</td>\n",
              "      <td>-1.223355</td>\n",
              "      <td>0.320744</td>\n",
              "      <td>-0.768432</td>\n",
              "      <td>0.124076</td>\n",
              "    </tr>\n",
              "    <tr>\n",
              "      <th>294</th>\n",
              "      <td>1.489615</td>\n",
              "      <td>0.693988</td>\n",
              "      <td>-1.047008</td>\n",
              "      <td>-0.375469</td>\n",
              "      <td>2.013854</td>\n",
              "    </tr>\n",
              "    <tr>\n",
              "      <th>295</th>\n",
              "      <td>0.272059</td>\n",
              "      <td>-0.095506</td>\n",
              "      <td>-2.241384</td>\n",
              "      <td>-1.510696</td>\n",
              "      <td>0.124076</td>\n",
              "    </tr>\n",
              "    <tr>\n",
              "      <th>296</th>\n",
              "      <td>0.272059</td>\n",
              "      <td>-0.095506</td>\n",
              "      <td>-0.218651</td>\n",
              "      <td>1.065396</td>\n",
              "      <td>-0.906712</td>\n",
              "    </tr>\n",
              "  </tbody>\n",
              "</table>\n",
              "</div>"
            ],
            "text/plain": [
              "          age  resting_blood_pressure  ...  max_heart_rate_achieved  st_depression\n",
              "292  0.272059                0.468418  ...                -1.161395      -0.734914\n",
              "293 -1.056185               -1.223355  ...                -0.768432       0.124076\n",
              "294  1.489615                0.693988  ...                -0.375469       2.013854\n",
              "295  0.272059               -0.095506  ...                -1.510696       0.124076\n",
              "296  0.272059               -0.095506  ...                 1.065396      -0.906712\n",
              "\n",
              "[5 rows x 5 columns]"
            ]
          },
          "metadata": {
            "tags": []
          },
          "execution_count": 38
        }
      ]
    },
    {
      "cell_type": "code",
      "metadata": {
        "id": "BkWvaG_3bnZ4",
        "colab_type": "code",
        "colab": {
          "base_uri": "https://localhost:8080/",
          "height": 215
        },
        "outputId": "3145e8cb-5318-49e8-994b-64c7811478a6"
      },
      "source": [
        "dataset=numerical_Data.merge(categorical_Data,\n",
        "                             left_index=True,right_index=True,how = \"right\")\n",
        "dataset= dataset.merge(data_label,\n",
        "                       left_index=True,right_index=True,how = \"right\")\n",
        "dataset.dropna(inplace=True)\n",
        "\n",
        "data_label=pd.DataFrame(dataset['target'],index = dataset.index)\n",
        "dataset.drop(columns=['target'],inplace=True)\n",
        "\n",
        "dataset.head()"
      ],
      "execution_count": null,
      "outputs": [
        {
          "output_type": "execute_result",
          "data": {
            "text/html": [
              "<div>\n",
              "<style scoped>\n",
              "    .dataframe tbody tr th:only-of-type {\n",
              "        vertical-align: middle;\n",
              "    }\n",
              "\n",
              "    .dataframe tbody tr th {\n",
              "        vertical-align: top;\n",
              "    }\n",
              "\n",
              "    .dataframe thead th {\n",
              "        text-align: right;\n",
              "    }\n",
              "</style>\n",
              "<table border=\"1\" class=\"dataframe\">\n",
              "  <thead>\n",
              "    <tr style=\"text-align: right;\">\n",
              "      <th></th>\n",
              "      <th>age</th>\n",
              "      <th>resting_blood_pressure</th>\n",
              "      <th>cholesterol</th>\n",
              "      <th>max_heart_rate_achieved</th>\n",
              "      <th>st_depression</th>\n",
              "      <th>sex_1</th>\n",
              "      <th>chest_pain_type_2</th>\n",
              "      <th>chest_pain_type_3</th>\n",
              "      <th>chest_pain_type_4</th>\n",
              "      <th>rest_ecg_1</th>\n",
              "      <th>rest_ecg_2</th>\n",
              "      <th>exercise_induced_angina_1</th>\n",
              "      <th>st_slope_2</th>\n",
              "      <th>st_slope_3</th>\n",
              "      <th>num_major_vessels_1</th>\n",
              "      <th>num_major_vessels_2</th>\n",
              "      <th>num_major_vessels_3</th>\n",
              "      <th>thalassemia_6</th>\n",
              "      <th>thalassemia_7</th>\n",
              "    </tr>\n",
              "  </thead>\n",
              "  <tbody>\n",
              "    <tr>\n",
              "      <th>0</th>\n",
              "      <td>0.936181</td>\n",
              "      <td>0.750380</td>\n",
              "      <td>-0.276443</td>\n",
              "      <td>0.017494</td>\n",
              "      <td>1.068965</td>\n",
              "      <td>1</td>\n",
              "      <td>0</td>\n",
              "      <td>0</td>\n",
              "      <td>0</td>\n",
              "      <td>0</td>\n",
              "      <td>1</td>\n",
              "      <td>0</td>\n",
              "      <td>0</td>\n",
              "      <td>1</td>\n",
              "      <td>0</td>\n",
              "      <td>0</td>\n",
              "      <td>0</td>\n",
              "      <td>1</td>\n",
              "      <td>0</td>\n",
              "    </tr>\n",
              "    <tr>\n",
              "      <th>1</th>\n",
              "      <td>1.378929</td>\n",
              "      <td>1.596266</td>\n",
              "      <td>0.744555</td>\n",
              "      <td>-1.816334</td>\n",
              "      <td>0.381773</td>\n",
              "      <td>1</td>\n",
              "      <td>0</td>\n",
              "      <td>0</td>\n",
              "      <td>1</td>\n",
              "      <td>0</td>\n",
              "      <td>1</td>\n",
              "      <td>1</td>\n",
              "      <td>1</td>\n",
              "      <td>0</td>\n",
              "      <td>0</td>\n",
              "      <td>0</td>\n",
              "      <td>1</td>\n",
              "      <td>0</td>\n",
              "      <td>0</td>\n",
              "    </tr>\n",
              "    <tr>\n",
              "      <th>2</th>\n",
              "      <td>1.378929</td>\n",
              "      <td>-0.659431</td>\n",
              "      <td>-0.353500</td>\n",
              "      <td>-0.899420</td>\n",
              "      <td>1.326662</td>\n",
              "      <td>1</td>\n",
              "      <td>0</td>\n",
              "      <td>0</td>\n",
              "      <td>1</td>\n",
              "      <td>0</td>\n",
              "      <td>1</td>\n",
              "      <td>1</td>\n",
              "      <td>1</td>\n",
              "      <td>0</td>\n",
              "      <td>0</td>\n",
              "      <td>1</td>\n",
              "      <td>0</td>\n",
              "      <td>0</td>\n",
              "      <td>1</td>\n",
              "    </tr>\n",
              "    <tr>\n",
              "      <th>3</th>\n",
              "      <td>-1.941680</td>\n",
              "      <td>-0.095506</td>\n",
              "      <td>0.051047</td>\n",
              "      <td>1.633010</td>\n",
              "      <td>2.099753</td>\n",
              "      <td>1</td>\n",
              "      <td>0</td>\n",
              "      <td>1</td>\n",
              "      <td>0</td>\n",
              "      <td>0</td>\n",
              "      <td>0</td>\n",
              "      <td>0</td>\n",
              "      <td>0</td>\n",
              "      <td>1</td>\n",
              "      <td>0</td>\n",
              "      <td>0</td>\n",
              "      <td>0</td>\n",
              "      <td>0</td>\n",
              "      <td>0</td>\n",
              "    </tr>\n",
              "    <tr>\n",
              "      <th>4</th>\n",
              "      <td>-1.498933</td>\n",
              "      <td>-0.095506</td>\n",
              "      <td>-0.835103</td>\n",
              "      <td>0.978071</td>\n",
              "      <td>0.295874</td>\n",
              "      <td>0</td>\n",
              "      <td>1</td>\n",
              "      <td>0</td>\n",
              "      <td>0</td>\n",
              "      <td>0</td>\n",
              "      <td>1</td>\n",
              "      <td>0</td>\n",
              "      <td>0</td>\n",
              "      <td>0</td>\n",
              "      <td>0</td>\n",
              "      <td>0</td>\n",
              "      <td>0</td>\n",
              "      <td>0</td>\n",
              "      <td>0</td>\n",
              "    </tr>\n",
              "  </tbody>\n",
              "</table>\n",
              "</div>"
            ],
            "text/plain": [
              "        age  resting_blood_pressure  ...  thalassemia_6  thalassemia_7\n",
              "0  0.936181                0.750380  ...              1              0\n",
              "1  1.378929                1.596266  ...              0              0\n",
              "2  1.378929               -0.659431  ...              0              1\n",
              "3 -1.941680               -0.095506  ...              0              0\n",
              "4 -1.498933               -0.095506  ...              0              0\n",
              "\n",
              "[5 rows x 19 columns]"
            ]
          },
          "metadata": {
            "tags": []
          },
          "execution_count": 39
        }
      ]
    },
    {
      "cell_type": "markdown",
      "metadata": {
        "id": "eMHWTZ8Fi0AD",
        "colab_type": "text"
      },
      "source": [
        "Now that the data is in the required format, let us split the data into training and test data for model learning and training purposes."
      ]
    },
    {
      "cell_type": "markdown",
      "metadata": {
        "id": "5FPebP_VpT3Q",
        "colab_type": "text"
      },
      "source": [
        "<H2>Preparation of Training and Testing data:</H2>\n",
        "\n",
        "Now that the data is in the required format, let us split the data into a training set and testing set. The data should be divided in such a way that training features and the outcome of the target for these training features are stored separately, similarly, for the testing features and testing outcomes. The scikit learn module has a method called train_test_split, which split the data according to our requirement."
      ]
    },
    {
      "cell_type": "code",
      "metadata": {
        "id": "Iw23f6nuqRu3",
        "colab_type": "code",
        "colab": {
          "base_uri": "https://localhost:8080/",
          "height": 215
        },
        "outputId": "befbacaa-4a21-4d7e-ef8f-666ac044deea"
      },
      "source": [
        "X_train, X_test, y_train, y_test = train_test_split(dataset, \n",
        "                                      data_label,test_size=0.3, random_state=5)\n",
        "\n",
        "#test_size = 0.3, 30 percent of the data is assigned to test and \n",
        "# the remianing 70 percent of the data is assigned to training set.\n",
        "\n",
        "X_train.head()"
      ],
      "execution_count": null,
      "outputs": [
        {
          "output_type": "execute_result",
          "data": {
            "text/html": [
              "<div>\n",
              "<style scoped>\n",
              "    .dataframe tbody tr th:only-of-type {\n",
              "        vertical-align: middle;\n",
              "    }\n",
              "\n",
              "    .dataframe tbody tr th {\n",
              "        vertical-align: top;\n",
              "    }\n",
              "\n",
              "    .dataframe thead th {\n",
              "        text-align: right;\n",
              "    }\n",
              "</style>\n",
              "<table border=\"1\" class=\"dataframe\">\n",
              "  <thead>\n",
              "    <tr style=\"text-align: right;\">\n",
              "      <th></th>\n",
              "      <th>age</th>\n",
              "      <th>resting_blood_pressure</th>\n",
              "      <th>cholesterol</th>\n",
              "      <th>max_heart_rate_achieved</th>\n",
              "      <th>st_depression</th>\n",
              "      <th>sex_1</th>\n",
              "      <th>chest_pain_type_2</th>\n",
              "      <th>chest_pain_type_3</th>\n",
              "      <th>chest_pain_type_4</th>\n",
              "      <th>rest_ecg_1</th>\n",
              "      <th>rest_ecg_2</th>\n",
              "      <th>exercise_induced_angina_1</th>\n",
              "      <th>st_slope_2</th>\n",
              "      <th>st_slope_3</th>\n",
              "      <th>num_major_vessels_1</th>\n",
              "      <th>num_major_vessels_2</th>\n",
              "      <th>num_major_vessels_3</th>\n",
              "      <th>thalassemia_6</th>\n",
              "      <th>thalassemia_7</th>\n",
              "    </tr>\n",
              "  </thead>\n",
              "  <tbody>\n",
              "    <tr>\n",
              "      <th>200</th>\n",
              "      <td>1.046868</td>\n",
              "      <td>0.468418</td>\n",
              "      <td>1.264686</td>\n",
              "      <td>-0.724769</td>\n",
              "      <td>-0.734914</td>\n",
              "      <td>0</td>\n",
              "      <td>0</td>\n",
              "      <td>0</td>\n",
              "      <td>1</td>\n",
              "      <td>0</td>\n",
              "      <td>1</td>\n",
              "      <td>0</td>\n",
              "      <td>0</td>\n",
              "      <td>0</td>\n",
              "      <td>0</td>\n",
              "      <td>0</td>\n",
              "      <td>0</td>\n",
              "      <td>0</td>\n",
              "      <td>0</td>\n",
              "    </tr>\n",
              "    <tr>\n",
              "      <th>94</th>\n",
              "      <td>-0.281376</td>\n",
              "      <td>-0.208291</td>\n",
              "      <td>0.147367</td>\n",
              "      <td>0.497783</td>\n",
              "      <td>-0.906712</td>\n",
              "      <td>0</td>\n",
              "      <td>0</td>\n",
              "      <td>1</td>\n",
              "      <td>0</td>\n",
              "      <td>0</td>\n",
              "      <td>1</td>\n",
              "      <td>0</td>\n",
              "      <td>0</td>\n",
              "      <td>0</td>\n",
              "      <td>0</td>\n",
              "      <td>0</td>\n",
              "      <td>0</td>\n",
              "      <td>0</td>\n",
              "      <td>0</td>\n",
              "    </tr>\n",
              "    <tr>\n",
              "      <th>237</th>\n",
              "      <td>-1.498933</td>\n",
              "      <td>-1.223355</td>\n",
              "      <td>-0.237915</td>\n",
              "      <td>0.148482</td>\n",
              "      <td>-0.906712</td>\n",
              "      <td>1</td>\n",
              "      <td>0</td>\n",
              "      <td>0</td>\n",
              "      <td>1</td>\n",
              "      <td>0</td>\n",
              "      <td>1</td>\n",
              "      <td>0</td>\n",
              "      <td>0</td>\n",
              "      <td>0</td>\n",
              "      <td>0</td>\n",
              "      <td>0</td>\n",
              "      <td>0</td>\n",
              "      <td>0</td>\n",
              "      <td>1</td>\n",
              "    </tr>\n",
              "    <tr>\n",
              "      <th>154</th>\n",
              "      <td>1.710989</td>\n",
              "      <td>-0.095506</td>\n",
              "      <td>1.438063</td>\n",
              "      <td>-1.772671</td>\n",
              "      <td>1.154864</td>\n",
              "      <td>1</td>\n",
              "      <td>0</td>\n",
              "      <td>0</td>\n",
              "      <td>1</td>\n",
              "      <td>0</td>\n",
              "      <td>1</td>\n",
              "      <td>1</td>\n",
              "      <td>0</td>\n",
              "      <td>1</td>\n",
              "      <td>1</td>\n",
              "      <td>0</td>\n",
              "      <td>0</td>\n",
              "      <td>0</td>\n",
              "      <td>0</td>\n",
              "    </tr>\n",
              "    <tr>\n",
              "      <th>28</th>\n",
              "      <td>-1.277559</td>\n",
              "      <td>1.032342</td>\n",
              "      <td>-0.006746</td>\n",
              "      <td>0.934409</td>\n",
              "      <td>0.381773</td>\n",
              "      <td>1</td>\n",
              "      <td>0</td>\n",
              "      <td>0</td>\n",
              "      <td>1</td>\n",
              "      <td>0</td>\n",
              "      <td>0</td>\n",
              "      <td>0</td>\n",
              "      <td>0</td>\n",
              "      <td>0</td>\n",
              "      <td>0</td>\n",
              "      <td>0</td>\n",
              "      <td>0</td>\n",
              "      <td>0</td>\n",
              "      <td>0</td>\n",
              "    </tr>\n",
              "  </tbody>\n",
              "</table>\n",
              "</div>"
            ],
            "text/plain": [
              "          age  resting_blood_pressure  ...  thalassemia_6  thalassemia_7\n",
              "200  1.046868                0.468418  ...              0              0\n",
              "94  -0.281376               -0.208291  ...              0              0\n",
              "237 -1.498933               -1.223355  ...              0              1\n",
              "154  1.710989               -0.095506  ...              0              0\n",
              "28  -1.277559                1.032342  ...              0              0\n",
              "\n",
              "[5 rows x 19 columns]"
            ]
          },
          "metadata": {
            "tags": []
          },
          "execution_count": 40
        }
      ]
    },
    {
      "cell_type": "code",
      "metadata": {
        "id": "371OgjHErsC0",
        "colab_type": "code",
        "colab": {
          "base_uri": "https://localhost:8080/",
          "height": 34
        },
        "outputId": "58a23e67-fdaf-4053-e865-4acafaaddcf8"
      },
      "source": [
        "print(X_train.shape,X_test.shape)\n",
        "\n",
        "#incase if there are any NaN values in the dataset, replace them with the mean.\n",
        "\n",
        "X_train.fillna(X_train.mean(), inplace=True)\n",
        "X_test.fillna(X_test.mean(), inplace=True)\n"
      ],
      "execution_count": null,
      "outputs": [
        {
          "output_type": "stream",
          "text": [
            "(204, 19) (88, 19)\n"
          ],
          "name": "stdout"
        }
      ]
    },
    {
      "cell_type": "markdown",
      "metadata": {
        "id": "UOKbZhIrjGiI",
        "colab_type": "text"
      },
      "source": [
        "<h2>Implementation of Classification Models:</h2>\n"
      ]
    },
    {
      "cell_type": "markdown",
      "metadata": {
        "id": "pYODbR8AjRXh",
        "colab_type": "text"
      },
      "source": [
        "<h3>1. Logistic Regression</h3>\n",
        "\n",
        "This algorithm is one of the simple and widely used classification algorithms. It is a descendent of Linear Regression. </br>\n",
        "Logistic Regression(Navlani, 2018) is applied \n",
        "for </br>binary and multi-class classification problems unlike Linear Regression, which focuses only on the continuous data\n",
        "\n",
        "We use this algorithm to perform the bi-class prediction, i.e., predict if there is heart disease(1), or there is no disease(0).\n",
        "\n",
        "Logistic Regression predicts the probability of occurrence of a class using the Sigmoid Function. </br>This sigmoid function is applied to the equation of Linear Regression.\n",
        "\n",
        "Linear Regression Equation:\n",
        " \n",
        " y= $${\\beta_0x_0 +\\beta_1x_1+\\beta_2x_2....+\\beta_nx_n }$$\n",
        "\n",
        "\n",
        "Where y is an independent variable/outcome and X1, X2,.........Xn is the explanatory variable.\n",
        "\n",
        "Sigmoid Function:\n",
        "\n",
        "$$\\frac {1}{1+e^{-y}}$$\n",
        "\n",
        "\n",
        "The sigmoid function is known as a Sigmoidal Curve or Logistic Function. It is a mathematical function that has an \"S\"-shaped curve. This function on the Linear Regression and the following equation is formed.\n",
        "\n",
        "p=$$\\frac {1}{1+e^{-\\beta_0x_0 +\\beta_1x_1+\\beta_2x_2....+\\beta_nx_n }}$$\n",
        "\n",
        "The above equation makes the regression model predict the category.\n",
        "\n",
        "The \"S\" shaped curve is shown below:\n",
        "![](http://res.cloudinary.com/dyd911kmh/image/upload/f_auto,q_auto:best/v1534281070/linear_vs_logistic_regression_edxw03.png)\n",
        "\n",
        "The Sigmoid function can take only real-value numbers and map it to the value between 0 and 1. \n",
        "\n",
        "If the output of the function is above 0.5, then the outcome is predicted as 1 or \"Yes.\"\n",
        "\n",
        "If the output of the function is less than 0.5, then the outcome is predicted as 0 or \"No.\"\n",
        "\n",
        "Assumptions of this model:\n",
        "\n",
        "1. The target variable must be binary\n",
        "\n",
        "2. The features in the dataset should be independent of each other.\n",
        "\n",
        "3. The predictive feature should be categorical.\n",
        "\n",
        "4. The dependent variable follows Bernoulli Distribution.\n",
        "\n",
        "The implementation is shown below.\n"
      ]
    },
    {
      "cell_type": "code",
      "metadata": {
        "id": "ew5hCyCbjOfi",
        "colab_type": "code",
        "colab": {
          "base_uri": "https://localhost:8080/",
          "height": 50
        },
        "outputId": "4f307963-93ac-4b9d-98bb-9bf295a11db0"
      },
      "source": [
        "\n",
        "#create a logistic regression model\n",
        "logreg = LogisticRegression()\n",
        "\n",
        "#training the model using fit method\n",
        "logreg.fit(X_train, y_train)\n",
        "\n",
        "# predict the outcome of the test ata\n",
        "y_pred = logreg.predict(X_test)\n",
        "\n",
        "# Now we need to check how well the model understood the training data \n",
        "score = logreg.score(X_train, y_train)\n",
        "print(\"Score of training data \",score)\n",
        "\n",
        "# Now we need to check how well the model understood the test data \n",
        "score = logreg.score(X_test, y_test)\n",
        "print(\"Score of test data \",score)\n"
      ],
      "execution_count": null,
      "outputs": [
        {
          "output_type": "stream",
          "text": [
            "Score of training data  0.8382352941176471\n",
            "Score of test data  0.8636363636363636\n"
          ],
          "name": "stdout"
        }
      ]
    },
    {
      "cell_type": "markdown",
      "metadata": {
        "id": "iS2nXBXl5zRE",
        "colab_type": "text"
      },
      "source": [
        "We can see that the score of training and test data are very close. \n",
        "Now, let us evaluate the test data."
      ]
    },
    {
      "cell_type": "code",
      "metadata": {
        "id": "LFeuIU4Y5xTr",
        "colab_type": "code",
        "colab": {
          "base_uri": "https://localhost:8080/",
          "height": 84
        },
        "outputId": "924a8032-fa4d-4441-cd6c-7fe3e7a73321"
      },
      "source": [
        "# as discussed in the evaluation metrics, find\n",
        "\"\"\"\n",
        "1. Accuracy\n",
        "2. Precision\n",
        "3. Recall\n",
        "4. F1-Score\n",
        "\"\"\"\n",
        "print(\"Accuracy \",metrics.accuracy_score(y_test, y_pred))\n",
        "\n",
        "print(\"Prediction \",metrics.precision_score(y_test, y_pred))\n",
        "\n",
        "print(\"Recall:\",metrics.recall_score(y_test, y_pred))\n",
        "\n",
        "print(\"F1-Score\", f1_score(y_test,y_pred))\n"
      ],
      "execution_count": null,
      "outputs": [
        {
          "output_type": "stream",
          "text": [
            "Accuracy  0.8636363636363636\n",
            "Prediction  0.918918918918919\n",
            "Recall: 0.7906976744186046\n",
            "F1-Score 0.85\n"
          ],
          "name": "stdout"
        }
      ]
    },
    {
      "cell_type": "markdown",
      "metadata": {
        "id": "VohjcpPz85YI",
        "colab_type": "text"
      },
      "source": [
        "Now lets look at the confusion matrix:"
      ]
    },
    {
      "cell_type": "code",
      "metadata": {
        "id": "HZC812IJ8936",
        "colab_type": "code",
        "colab": {
          "base_uri": "https://localhost:8080/",
          "height": 50
        },
        "outputId": "aee2384f-4307-4ae7-b2af-6ac043dc2c88"
      },
      "source": [
        "cnf_matrix = metrics.confusion_matrix(y_test, y_pred)\n",
        "cnf_matrix"
      ],
      "execution_count": null,
      "outputs": [
        {
          "output_type": "execute_result",
          "data": {
            "text/plain": [
              "array([[42,  3],\n",
              "       [ 9, 34]])"
            ]
          },
          "metadata": {
            "tags": []
          },
          "execution_count": 44
        }
      ]
    },
    {
      "cell_type": "markdown",
      "metadata": {
        "colab_type": "text",
        "id": "GZwjOVUoC3FL"
      },
      "source": [
        "By looking at the confusion matrix, we can say that. \n",
        "\n",
        "\n",
        "*   Forty Two instances which are positive are predicted positively \n",
        "* three instances which are in positive class are predicted negatively\n",
        "* nine instances which are in negative class are predicted positively \n",
        "*   Thirty Four instances are predicted negative which are negative\n",
        "\n",
        "We have very fewer errors in this model."
      ]
    },
    {
      "cell_type": "markdown",
      "metadata": {
        "id": "fyml9dGTAmLC",
        "colab_type": "text"
      },
      "source": [
        "Let us plot the ROC and AUC curve:"
      ]
    },
    {
      "cell_type": "code",
      "metadata": {
        "id": "5N51tOuh-UiL",
        "colab_type": "code",
        "colab": {
          "base_uri": "https://localhost:8080/",
          "height": 295
        },
        "outputId": "eca55123-62dd-4664-d44e-ee168def8c3e"
      },
      "source": [
        "y_pred_proba = logreg.predict_proba(X_test)[::,1]\n",
        "fpr, tpr, _ = metrics.roc_curve(y_test,  y_pred_proba)\n",
        "auc = metrics.roc_auc_score(y_test, y_pred_proba)\n",
        "plt.title('ROC Curve for the Logistisc Regression Model')\n",
        "plt.xlabel('False Positive Rate')\n",
        "plt.ylabel('True Positive Rate')\n",
        "plt.plot(fpr,tpr,label=\"data 1, auc=\"+str(auc))\n",
        "plt.legend(loc=4)\n",
        "plt.show()"
      ],
      "execution_count": null,
      "outputs": [
        {
          "output_type": "display_data",
          "data": {
            "image/png": "[encoded data removed]",
            "text/plain": [
              "<Figure size 432x288 with 1 Axes>"
            ]
          },
          "metadata": {
            "tags": []
          }
        }
      ]
    },
    {
      "cell_type": "markdown",
      "metadata": {
        "id": "xikXXnc4A3R1",
        "colab_type": "text"
      },
      "source": [
        "From the above plot, we can see that the AUC value is 0.93, which is nearly equal to 1.0. This value proves that it is an excellent model for classification."
      ]
    },
    {
      "cell_type": "markdown",
      "metadata": {
        "id": "2LcO9arhBLYq",
        "colab_type": "text"
      },
      "source": [
        "<h3>Plotting the Predicted Values:</h3>\n",
        "As we have 19 features and one target feature, we cannot scatter plot all the features of the training data. The best way to visualize is through a confusion matrix.\n",
        "Let us plot the confusion matrix here."
      ]
    },
    {
      "cell_type": "code",
      "metadata": {
        "id": "-izu0dlQA1lf",
        "colab_type": "code",
        "colab": {
          "base_uri": "https://localhost:8080/",
          "height": 341
        },
        "outputId": "499ab9cf-03e9-4be0-fa05-ccea8e897e91"
      },
      "source": [
        "sns.heatmap(pd.DataFrame(cnf_matrix), annot=True, cmap=\"YlGnBu\" ,fmt='g')\n",
        "#ax.xaxis.set_label_position(\"top\")\n",
        "plt.tight_layout()\n",
        "plt.title('Confusion matrix', y=1.1)\n",
        "plt.ylabel('Actual label')\n",
        "plt.xlabel('Predicted label')"
      ],
      "execution_count": null,
      "outputs": [
        {
          "output_type": "execute_result",
          "data": {
            "text/plain": [
              "Text(0.5, 15.0, 'Predicted label')"
            ]
          },
          "metadata": {
            "tags": []
          },
          "execution_count": 52
        },
        {
          "output_type": "display_data",
          "data": {
            "image/png": "[encoded data removed]",
            "text/plain": [
              "<Figure size 432x288 with 2 Axes>"
            ]
          },
          "metadata": {
            "tags": []
          }
        }
      ]
    },
    {
      "cell_type": "markdown",
      "metadata": {
        "id": "VugUJJRfHITu",
        "colab_type": "text"
      },
      "source": [
        "<h3>2. Naive Bayes Classification:</h3>\n",
        "\n",
        "This algorithm(Navlani, 2018) is an intuitive method that uses probabilities based on the Bayes Theorem to predict the data.</br>\n",
        "It is a supervised learning method based completely on the probabilities. </br>\n",
        "\n",
        "Given the value of an attribute, the probability of a class value is predicted correctly with the help of conditional probability. </br>\n",
        "\n",
        "During prediction, we calculate the probabilities of each instance belonging to each class. Finally, select the class which as the highest probability. \n",
        "\n",
        "Conditional Probability of heart-disease and no-heart-diesease are: </br>\n",
        "\n",
        "$$P(HeartDisease \\, | \\, Features) = \\frac{P(Features \\, | \\, HeartDisease) \\, (P(HeartDisease))} {P(Features)}$$\n",
        "\n",
        "</br>\n",
        "\n",
        "$$P(NoHeartDisease \\, | \\, Features) = \\frac{P(Features \\, | \\, NoHeartDisease) \\, (1-P(HeartDisease))} {P(Features)}$$\n",
        "\n",
        "\n",
        "Assumptions:\n",
        "1. Even if there is any dependency between the features, the algorithm considers them as an independent.\n",
        "2. A normal distribution of numerical data.\n",
        "3. Each feature has equal weight\n"
      ]
    },
    {
      "cell_type": "code",
      "metadata": {
        "id": "P7XSRvZsHQY4",
        "colab_type": "code",
        "colab": {}
      },
      "source": [
        "#Creating a Naive Bayes Model\n",
        "gnb = GaussianNB()\n",
        "\n",
        "#fit the training data so that the model learns it\n",
        "gnb.fit(X_train, y_train)\n",
        "\n",
        "# predict the outcome\n",
        "y_pred = gnb.predict(X_test)"
      ],
      "execution_count": null,
      "outputs": []
    },
    {
      "cell_type": "markdown",
      "metadata": {
        "id": "NgUihY-hmUJo",
        "colab_type": "text"
      },
      "source": [
        "Let us now evaluate the outcome with actual values."
      ]
    },
    {
      "cell_type": "code",
      "metadata": {
        "id": "tB2lE-fuPbZg",
        "colab_type": "code",
        "colab": {
          "base_uri": "https://localhost:8080/",
          "height": 84
        },
        "outputId": "5ed1c207-7c92-46da-b58e-848be2b00f4f"
      },
      "source": [
        "print(\"Accuracy \",metrics.accuracy_score(y_test, y_pred)*100)\n",
        "\n",
        "print(\"Prediction \",metrics.precision_score(y_test, y_pred)*100)\n",
        "\n",
        "print(\"Recall:\",metrics.recall_score(y_test, y_pred))\n",
        "\n",
        "print(\"F1-Score\", f1_score(y_test,y_pred))"
      ],
      "execution_count": null,
      "outputs": [
        {
          "output_type": "stream",
          "text": [
            "Accuracy  84.0909090909091\n",
            "Prediction  91.42857142857143\n",
            "Recall: 0.7441860465116279\n",
            "F1-Score 0.8205128205128205\n"
          ],
          "name": "stdout"
        }
      ]
    },
    {
      "cell_type": "markdown",
      "metadata": {
        "id": "Vj2GLOaem5wr",
        "colab_type": "text"
      },
      "source": [
        "All the above values are less when compared to the Logistic Regression Classification Metrics.\n",
        "\n",
        "Let us look at the ROC and AUC curve.\n",
        "\n"
      ]
    },
    {
      "cell_type": "code",
      "metadata": {
        "id": "Ry0YnHowmgch",
        "colab_type": "code",
        "colab": {
          "base_uri": "https://localhost:8080/",
          "height": 295
        },
        "outputId": "ee80fc36-31f4-4791-9fc7-d329fba63731"
      },
      "source": [
        "y_pred_proba = gnb.predict_proba(X_test)[::,1]\n",
        "fpr, tpr, _ = metrics.roc_curve(y_test,  y_pred_proba)\n",
        "auc = metrics.roc_auc_score(y_test, y_pred_proba)\n",
        "plt.title('ROC Curve for the Niave Bayes Model')\n",
        "plt.xlabel('False Positive Rate')\n",
        "plt.ylabel('True Positive Rate')\n",
        "plt.plot(fpr,tpr,label=\"data 1, auc=\"+str(auc))\n",
        "\n",
        "plt.legend(loc=4)\n",
        "plt.show()"
      ],
      "execution_count": null,
      "outputs": [
        {
          "output_type": "display_data",
          "data": {
            "image/png": "[encoded data removed]",
            "text/plain": [
              "<Figure size 432x288 with 1 Axes>"
            ]
          },
          "metadata": {
            "tags": []
          }
        }
      ]
    },
    {
      "cell_type": "markdown",
      "metadata": {
        "id": "iDIWljuzo-Ez",
        "colab_type": "text"
      },
      "source": [
        "The AUC score is pretty good for this model and equal to the Logistic Regression's AUC score.</br>\n",
        "\n",
        "Let us plot the Confusion Matrix for this model."
      ]
    },
    {
      "cell_type": "code",
      "metadata": {
        "id": "m336XvxYo5Rd",
        "colab_type": "code",
        "colab": {
          "base_uri": "https://localhost:8080/",
          "height": 341
        },
        "outputId": "8a74387e-b3ac-4c63-f358-ff504689fd5c"
      },
      "source": [
        "cnf_matrix = metrics.confusion_matrix(y_test, y_pred)\n",
        "sns.heatmap(pd.DataFrame(cnf_matrix), annot=True, cmap=\"YlGnBu\" ,fmt='g')\n",
        "#ax.xaxis.set_label_position(\"top\")\n",
        "plt.tight_layout()\n",
        "plt.title('Confusion matrix', y=1.1)\n",
        "plt.ylabel('Actual label')\n",
        "plt.xlabel('Predicted label')"
      ],
      "execution_count": null,
      "outputs": [
        {
          "output_type": "execute_result",
          "data": {
            "text/plain": [
              "Text(0.5, 15.0, 'Predicted label')"
            ]
          },
          "metadata": {
            "tags": []
          },
          "execution_count": 57
        },
        {
          "output_type": "display_data",
          "data": {
            "image/png": "[encoded data removed]",
            "text/plain": [
              "<Figure size 432x288 with 2 Axes>"
            ]
          },
          "metadata": {
            "tags": []
          }
        }
      ]
    },
    {
      "cell_type": "markdown",
      "metadata": {
        "id": "PP2R6DUtr0H5",
        "colab_type": "text"
      },
      "source": [
        "<H3>3. Linear SVC</H3>"
      ]
    },
    {
      "cell_type": "markdown",
      "metadata": {
        "id": "4a69edZTHMCH",
        "colab_type": "text"
      },
      "source": [
        "A Scalar Vector Machine (SVM) is a supervised classifier(SVC) algorithm(Navlani, 2018) which surpasses the accuracy of Logistic Regression and Decision Tress Classifiers. </br>\n",
        "\n",
        "It makes use of the kernel parameter, which is for classifying non-linear data. This kernel creates a hyperplane in multi-dimensional space to separate binary or multi-class of data. A hyperplane is called a Maximum Marginal Hyperplane when it effectively divides the classes in a data set. </br>\n",
        "\n",
        "However, this model does iteratively finds the best fit hyperplane.\n",
        "\n",
        "The data points plotted on the X-axis, and Z-axis( sum of x squared and y-squared) is shown below: </br>\n",
        "\n",
        "$${Z^{2}} = {X^{2}}+{Y^{2}} $$\n",
        "\n",
        "![](https://www.researchgate.net/profile/Xiaoou_Tang/publication/6992544/figure/fig1/AS:277855356375049@1443257287435/SVM-for-a-linearly-separable-binary-classification-problem_W640.jpg)\n",
        "\n",
        "\n",
        "As we can see in the above diagram, hyperplane acts as a decision boundary.\n",
        "\n",
        "Margin: It is the distance between the closest point of each class from the hyperplane. If the distance is too small, then the model is trying to overfit for the classification. If the distance is high, then it is considered as a good model.\n",
        "\n",
        "Support Vectors: These are the nodes/data points that are closer to the hyperplane.\n",
        "\n",
        "The accuracy depends upon the type of kernels used for creating SVM. Kernel transforms the data from low-dimensional space to high dimension.\n",
        "\n",
        "There are three types of kernels: </br>\n",
        "1. Linear Kernel: This kernel is used when only a single hyperplane is used to separate the classes in the data.\n",
        "\n",
        "2. Polynomial Kernel: This kernel is used to draw the curved hyperplane.\n",
        "\n",
        "3. Radial Basis Function Kernel: This kernel is used to map the data into infinite-dimensional space.\n",
        "\n",
        "\n",
        "In our project, we make use of Linear kernel since we have only two classes in or target.\n",
        "The implementation is shown below.\n",
        "\n",
        "\n",
        "\n"
      ]
    },
    {
      "cell_type": "code",
      "metadata": {
        "id": "1MiOAIKxrlAZ",
        "colab_type": "code",
        "colab": {
          "base_uri": "https://localhost:8080/",
          "height": 84
        },
        "outputId": "506e8be8-020c-49f3-937b-a0e6c4f92073"
      },
      "source": [
        "from sklearn.svm import SVC\n",
        "classifier =SVC(kernel=\"linear\",probability=True)\n",
        "classifier.fit(X_train, y_train)\n",
        "y_pred = classifier.predict(X_test)\n",
        "\n",
        "print(\"Accuracy \",metrics.accuracy_score(y_test, y_pred)*100)\n",
        "\n",
        "print(\"Prediction \",metrics.precision_score(y_test, y_pred)*100)\n",
        "\n",
        "print(\"Recall:\",metrics.recall_score(y_test, y_pred))\n",
        "\n",
        "print(\"F1-Score\", f1_score(y_test,y_pred))\n",
        "\n"
      ],
      "execution_count": null,
      "outputs": [
        {
          "output_type": "stream",
          "text": [
            "Accuracy  86.36363636363636\n",
            "Prediction  94.28571428571428\n",
            "Recall: 0.7674418604651163\n",
            "F1-Score 0.8461538461538461\n"
          ],
          "name": "stdout"
        }
      ]
    },
    {
      "cell_type": "code",
      "metadata": {
        "id": "cqwwFpcl9WCB",
        "colab_type": "code",
        "colab": {
          "base_uri": "https://localhost:8080/",
          "height": 312
        },
        "outputId": "3553af70-4f2a-478a-a655-c42bcdec482d"
      },
      "source": [
        "from sklearn.metrics import roc_curve, auc\n",
        "import pylab as pl\n",
        "\n",
        "\n",
        "probas_ = classifier.fit(X_train, y_train).predict_proba(X_test)\n",
        "fpr, tpr, thresholds = roc_curve(y_test, probas_[:, 1])\n",
        "roc_auc = auc(fpr, tpr)\n",
        "print(\"Area under the ROC curve \", roc_auc)\n",
        "\n",
        "plt.clf()\n",
        "plt.plot(fpr, tpr, label=roc_auc)\n",
        "plt.plot([0, 1], [0, 1], 'k--')\n",
        "plt.xlim([0.0, 1.0])\n",
        "plt.ylim([0.0, 1.0])\n",
        "plt.xlabel('False Positive Rate')\n",
        "plt.ylabel('True Positive Rate')\n",
        "plt.title('ROC Curve for Linear SVM')\n",
        "plt.legend(loc=\"lower right\")\n",
        "plt.show()"
      ],
      "execution_count": null,
      "outputs": [
        {
          "output_type": "stream",
          "text": [
            "Area under the ROC curve  0.9198966408268734\n"
          ],
          "name": "stdout"
        },
        {
          "output_type": "display_data",
          "data": {
            "image/png": "[encoded data removed]",
            "text/plain": [
              "<Figure size 432x288 with 1 Axes>"
            ]
          },
          "metadata": {
            "tags": []
          }
        }
      ]
    },
    {
      "cell_type": "code",
      "metadata": {
        "id": "Mf9rfucSRMnB",
        "colab_type": "code",
        "colab": {
          "base_uri": "https://localhost:8080/",
          "height": 341
        },
        "outputId": "bf33063e-19a2-453d-c359-3e27c254e4b8"
      },
      "source": [
        "cnf_matrix = metrics.confusion_matrix(y_test, y_pred)\n",
        "sns.heatmap(pd.DataFrame(cnf_matrix), annot=True, cmap=\"YlGnBu\" ,fmt='g')\n",
        "#ax.xaxis.set_label_position(\"top\")\n",
        "plt.tight_layout()\n",
        "plt.title('Confusion matrix', y=1.1)\n",
        "plt.ylabel('Actual label')\n",
        "plt.xlabel('Predicted label')"
      ],
      "execution_count": null,
      "outputs": [
        {
          "output_type": "execute_result",
          "data": {
            "text/plain": [
              "Text(0.5, 15.0, 'Predicted label')"
            ]
          },
          "metadata": {
            "tags": []
          },
          "execution_count": 126
        },
        {
          "output_type": "display_data",
          "data": {
            "image/png": "[encoded data removed]",
            "text/plain": [
              "<Figure size 432x288 with 2 Axes>"
            ]
          },
          "metadata": {
            "tags": []
          }
        }
      ]
    },
    {
      "cell_type": "markdown",
      "metadata": {
        "id": "OX7FhRX2Gr-1",
        "colab_type": "text"
      },
      "source": [
        "From the high Score, we can see that the Accuracy score of linear SVC and Logistic Regression is the same. However, the prediction rate of Linear SVC is higher. \n",
        "The accuracy is not rising above 86 percent. Therefore, out of the three models we created, LInear SVC is the best model for predicting heart disease."
      ]
    },
    {
      "cell_type": "markdown",
      "metadata": {
        "id": "r1kZQ8jC8K9p",
        "colab_type": "text"
      },
      "source": [
        "<h2>Extrapolation and Interpolation:</h2>\n",
        "\n",
        "Extrapolation: fitting an instance that is out of the range from the actual instances and tests the outcome of it.\n",
        "\n",
        "Interpolation: Test the model by creating a fictional instance that lies in the range of the data.\n",
        "\n",
        "\n",
        "For analyzing the performance of the model, let us create a fictional instance first."
      ]
    },
    {
      "cell_type": "markdown",
      "metadata": {
        "id": "YHtQnl3nHQXU",
        "colab_type": "text"
      },
      "source": [
        "We have an issue with scaling here, as we are making our test and train data to go through standard scalar. The classification models are trained on the scaled data. </br>\n",
        "Similarly, our interpolation and extrapolation data should also go through scaling, and then we should predict their outcome. </br>\n",
        "\n",
        "For this purpose, let us create a function called predict_Fictional_Data(X_Fictional, X_Categorical) which takes the numerical and categorical features of the fictional instance. "
      ]
    },
    {
      "cell_type": "markdown",
      "metadata": {
        "id": "m-wgjWjLDFAw",
        "colab_type": "text"
      },
      "source": [
        "For scaling this fictional data,  the original data needs to be appended with this fictional data. After scaling the overall data, the fictional data row is extracted from the original data frame and passed to the predict function of the model."
      ]
    },
    {
      "cell_type": "code",
      "metadata": {
        "id": "frDh5-nl8rWu",
        "colab_type": "code",
        "colab": {}
      },
      "source": [
        "def predict_Fictional_Data(X_Fictional,X_Categorical):\n",
        " \n",
        "  numerical_Data=df.select_dtypes(include=[np.float64,np.int64])\n",
        "  \n",
        "  X_Fictional=pd.DataFrame(X_Fictional,\n",
        "                         columns = numerical_Data.columns)\n",
        "  \n",
        "  numerical_Data= numerical_Data.append(X_Fictional,\n",
        "                                      ignore_index = True)\n",
        "  \n",
        "  # Converting numerical data into standard scalar\n",
        "\n",
        "  scaler = StandardScaler()\n",
        "  #scaler.fit(numerical_Data)\n",
        "\n",
        "\n",
        "  data_scaled=scaler.fit_transform(numerical_Data)\n",
        "\n",
        "  numerical_Data=pd.DataFrame(data=data_scaled, columns=numerical_Data.columns)\n",
        "\n",
        "  numerical_Data.tail()\n",
        "  \n",
        "  X_Fictional=numerical_Data.loc[[len(numerical_Data)-1]]\n",
        "  \n",
        "  X_Categorical=pd.DataFrame(X_Categorical,\n",
        "                         columns = categorical_Data.columns)\n",
        "  \n",
        "  X_Fictional.reset_index(drop=True, inplace=True)\n",
        "\n",
        "  X_Fictional=pd.concat([X_Fictional,X_Categorical],axis=1)\n",
        "  \n",
        "  cols = [col for col in X_Fictional.columns if col not in ['age',\n",
        "                     'cholesterol',\n",
        "                     'max_heart_rate_achieved', 'st_depression',\n",
        "            'resting_blood_pressure']]\n",
        "  \n",
        "  for col in cols:\n",
        "    X_Fictional[col] = X_Fictional[col].astype('object')\n",
        "  \n",
        "  print(\"Prediction of Logistic Regression Model: \",logreg.predict(X_Fictional))\n",
        "  print(\"Prediction of Naive Bayes Model: \",gnb.predict(X_Fictional))\n",
        "  print(\"Prediction of Linear SVC Model: \",classifier.predict(X_Fictional))\n",
        "  \n",
        "   "
      ],
      "execution_count": null,
      "outputs": []
    },
    {
      "cell_type": "markdown",
      "metadata": {
        "id": "HjgdOJmQBvV3",
        "colab_type": "text"
      },
      "source": [
        "Let us first start with interpolation data, which contains the chest pain type 1 for age 63 since most of the people who have chest pain of type 1 are prone to be having heart disease from our analysis. This data should predict one, i.e., heart disease as per our understanding of the data.\n"
      ]
    },
    {
      "cell_type": "code",
      "metadata": {
        "id": "1tVTXj-DJKp4",
        "colab_type": "code",
        "colab": {
          "base_uri": "https://localhost:8080/",
          "height": 67
        },
        "outputId": "9a047a52-d591-400e-d0c1-81d3dc7bf6ca"
      },
      "source": [
        "predict_Fictional_Data([[63,145,233,150,2.3]],[[1,0,0,0,0,1,0,0,1,0,0,0,1,0]])"
      ],
      "execution_count": null,
      "outputs": [
        {
          "output_type": "stream",
          "text": [
            "Prediction of Logistic Regression Model:  [0]\n",
            "Prediction of Naive Bayes Model:  [1]\n",
            "Prediction of Linear SVC Model:  [0]\n"
          ],
          "name": "stdout"
        }
      ]
    },
    {
      "cell_type": "markdown",
      "metadata": {
        "id": "gk1e5vCDDM7N",
        "colab_type": "text"
      },
      "source": [
        "Only the Naive Bayes Model has predicted accurately."
      ]
    },
    {
      "cell_type": "markdown",
      "metadata": {
        "id": "ZUxnXiHFDZfz",
        "colab_type": "text"
      },
      "source": [
        "Let us give an extrapolated data of high thalassemia of 210, which is greater than the max value present in the data set. Even if there is a high thal value, there are chances of having no heart disease."
      ]
    },
    {
      "cell_type": "code",
      "metadata": {
        "id": "jWfGjjfpHpJd",
        "colab_type": "code",
        "colab": {
          "base_uri": "https://localhost:8080/",
          "height": 67
        },
        "outputId": "9b1447ff-9685-4cc0-e60a-74a4de5f52b9"
      },
      "source": [
        "predict_Fictional_Data([[44,130,250,210,0.4]],[[1,0,1,0,0,0,1,0,0,0,0,0,0,0]])"
      ],
      "execution_count": null,
      "outputs": [
        {
          "output_type": "stream",
          "text": [
            "Prediction of Logistic Regression Model:  [0]\n",
            "Prediction of Naive Bayes Model:  [0]\n",
            "Prediction of Linear SVC Model:  [0]\n"
          ],
          "name": "stdout"
        }
      ]
    },
    {
      "cell_type": "markdown",
      "metadata": {
        "id": "pY0w2iydEDJI",
        "colab_type": "text"
      },
      "source": [
        "\n",
        "This experiment can be predicted easily by all the models since the thal value is not only a deciding factor for heart disease. In the data, there is an instance with a thal value of 195 and high cholesterol, and that person does not have heart disease. We can accept the output of all the three models."
      ]
    },
    {
      "cell_type": "markdown",
      "metadata": {
        "id": "H_LKPP6kEsrY",
        "colab_type": "text"
      },
      "source": [
        "Let us predict another interpolation data with the same data used previously for males. Let us change the sex type to female and test the outcome. It should be predicting the existence of heart disease."
      ]
    },
    {
      "cell_type": "code",
      "metadata": {
        "id": "DlVesxaM_dAb",
        "colab_type": "code",
        "colab": {
          "base_uri": "https://localhost:8080/",
          "height": 67
        },
        "outputId": "e9b52c43-3dd8-40a7-a5dc-8df04b752a94"
      },
      "source": [
        "predict_Fictional_Data([[63,145,233,150,2.3]],[[0,0,0,0,0,1,0,0,1,0,0,0,1,0]])"
      ],
      "execution_count": null,
      "outputs": [
        {
          "output_type": "stream",
          "text": [
            "Prediction of Logistic Regression Model:  [0]\n",
            "Prediction of Naive Bayes Model:  [1]\n",
            "Prediction of Linear SVC Model:  [0]\n"
          ],
          "name": "stdout"
        }
      ]
    },
    {
      "cell_type": "markdown",
      "metadata": {
        "id": "fxzBtJcbFPQz",
        "colab_type": "text"
      },
      "source": [
        "Again, we can see that the Naive Bayes Model can predict heart disease correctly compared to the other models."
      ]
    },
    {
      "cell_type": "markdown",
      "metadata": {
        "id": "2fGe7dsLFbML",
        "colab_type": "text"
      },
      "source": [
        "Therefore, we can say that due to a large number of outliers in the data, the prediction of having a heart disease is possible only with additional information. \n",
        "\n",
        "---\n",
        "\n"
      ]
    },
    {
      "cell_type": "markdown",
      "metadata": {
        "id": "EtrQo1MSFtwh",
        "colab_type": "text"
      },
      "source": [
        "<H2>Summary</H2>"
      ]
    },
    {
      "cell_type": "markdown",
      "metadata": {
        "id": "Q-9ijxhpV5w1",
        "colab_type": "text"
      },
      "source": [
        "We have started with the analysis of the factors which can contribute to having a heart disease for feature selection. From the result of our analysis, we confirmed that the rate of blood sugar does not contribute to heart disease, so we delete it. Finally transformed the data into a format that can be understood by the classifier algorithms. \n",
        "Our goal was to predict a heart disease with a given set of features by applying Machine Learning algorithms. We identified that this is a classification problem and applied Logistic Regression, Nave Bayes Classifier, and Linear SVC algorithms for the heart disease prediction.\n",
        "\n",
        "Although Liner SVC has given the highest accuracy in the prediction of heart disease on the test data, it failed to predict the interpolation and extrapolation data. Only Naive Bayes among the three algorithms could rightly classify the prediction for interpolation and extrapolation data.\n",
        "\n",
        "Thus we conclude that the Naive Bayes Classifier is the best model to predict the heat disease.\n",
        "\n",
        "\n",
        "There are many outliers in the data. The analysis of outlier detection could fetch more accurate results on heart disease prediction.\n",
        "\n",
        "The take away from this analysis is that the numerical data and categorical data should be analyzed and scaled differently and  PCA or any other dimensionality reduction algorithms cannot be applied for visualizing the prediction of a bi-class target since it causes the data loss. The best way to visualize the results of a classifier problem is by using a ROC curve and Confusion Matrix."
      ]
    },
    {
      "cell_type": "markdown",
      "metadata": {
        "id": "UUema2tVCbIY",
        "colab_type": "text"
      },
      "source": [
        "**References:**\n",
        "\n",
        "Bhf.org.uk. (2019). Risk factors. [online] Available at: https://www.bhf.org.uk/informationsupport/risk-factors [Accessed 16 Aug. 2019]. </br>\n",
        "\n",
        "www.heart.org. (n.d.). Understand Your Risks to Prevent a Heart Attack. [online] Available at: https://www.heart.org/en/health-topics/heart-attack/understand-your-risks-to-prevent-a-heart-attack [Accessed 13 Aug. 2019].\n",
        "</br>\n",
        "Navlani, A. (2018). Understanding Logistic Regression in Python. [online] DataCamp Community. Available at: https://www.datacamp.com/community/tutorials/understanding-logistic-regression-python [Accessed 19 Aug. 2019].</br>\n",
        "\n",
        "Navlani, A. (2018). Support Vector Machines in Scikit-learn. [online] DataCamp Community. Available at: https://www.datacamp.com/community/tutorials/svm-classification-scikit-learn-python [Accessed 19 Aug. 2019].\n",
        "</br>\n",
        "Navlani, A. (2018). Naive Bayes Classification using Scikit-learn. [online] DataCamp Community. Available at: https://www.datacamp.com/community/tutorials/naive-bayes-scikit-learn [Accessed 19 Aug. 2019].\n",
        "\n"
      ]
    }
  ]
}